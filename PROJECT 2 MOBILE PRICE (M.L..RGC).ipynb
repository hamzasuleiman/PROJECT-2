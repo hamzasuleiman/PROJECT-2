{
 "cells": [
  {
   "cell_type": "code",
   "execution_count": 1,
   "id": "f8e6ec0d-cd6a-48ea-9c75-6c41a2d7a3a9",
   "metadata": {
    "tags": []
   },
   "outputs": [],
   "source": [
    "import numpy as np\n",
    "import pandas as pd\n",
    "import matplotlib.pyplot as plt\n",
    "import seaborn as sns\n",
    "import plotly.express as px\n",
    "from sklearn.model_selection import train_test_split\n",
    "from sklearn.preprocessing import StandardScaler,LabelEncoder\n",
    "from sklearn.linear_model import LinearRegression,Lasso,Ridge,ElasticNet\n",
    "from sklearn.svm import SVR\n",
    "from sklearn.tree import DecisionTreeRegressor\n",
    "from sklearn.ensemble import RandomForestRegressor\n",
    "from sklearn.neural_network import MLPRegressor\n",
    "from sklearn.metrics import r2_score,mean_absolute_error,mean_absolute_percentage_error,mean_squared_error\n",
    "from sklearn.feature_selection import mutual_info_classif, mutual_info_regression\n",
    "from sklearn.pipeline import Pipeline"
   ]
  },
  {
   "cell_type": "code",
   "execution_count": 2,
   "id": "d98a6190-4c9e-4b0d-be1b-3957c984b47f",
   "metadata": {
    "tags": []
   },
   "outputs": [
    {
     "data": {
      "text/html": [
       "<div>\n",
       "<style scoped>\n",
       "    .dataframe tbody tr th:only-of-type {\n",
       "        vertical-align: middle;\n",
       "    }\n",
       "\n",
       "    .dataframe tbody tr th {\n",
       "        vertical-align: top;\n",
       "    }\n",
       "\n",
       "    .dataframe thead th {\n",
       "        text-align: right;\n",
       "    }\n",
       "</style>\n",
       "<table border=\"1\" class=\"dataframe\">\n",
       "  <thead>\n",
       "    <tr style=\"text-align: right;\">\n",
       "      <th></th>\n",
       "      <th>Phone Name</th>\n",
       "      <th>Rating ?/5</th>\n",
       "      <th>Number of Ratings</th>\n",
       "      <th>RAM</th>\n",
       "      <th>ROM/Storage</th>\n",
       "      <th>Back/Rare Camera</th>\n",
       "      <th>Front Camera</th>\n",
       "      <th>Battery</th>\n",
       "      <th>Processor</th>\n",
       "      <th>Price in INR</th>\n",
       "      <th>Date of Scraping</th>\n",
       "    </tr>\n",
       "  </thead>\n",
       "  <tbody>\n",
       "    <tr>\n",
       "      <th>0</th>\n",
       "      <td>POCO C50 (Royal Blue, 32 GB)</td>\n",
       "      <td>4.2</td>\n",
       "      <td>33,561</td>\n",
       "      <td>2 GB RAM</td>\n",
       "      <td>32 GB ROM</td>\n",
       "      <td>8MP Dual Camera</td>\n",
       "      <td>5MP Front Camera</td>\n",
       "      <td>5000 mAh</td>\n",
       "      <td>Mediatek Helio A22 Processor, Upto 2.0 GHz Pro...</td>\n",
       "      <td>₹5,649</td>\n",
       "      <td>2023-06-17</td>\n",
       "    </tr>\n",
       "    <tr>\n",
       "      <th>1</th>\n",
       "      <td>POCO M4 5G (Cool Blue, 64 GB)</td>\n",
       "      <td>4.2</td>\n",
       "      <td>77,128</td>\n",
       "      <td>4 GB RAM</td>\n",
       "      <td>64 GB ROM</td>\n",
       "      <td>50MP + 2MP</td>\n",
       "      <td>8MP Front Camera</td>\n",
       "      <td>5000 mAh</td>\n",
       "      <td>Mediatek Dimensity 700 Processor</td>\n",
       "      <td>₹11,999</td>\n",
       "      <td>2023-06-17</td>\n",
       "    </tr>\n",
       "    <tr>\n",
       "      <th>2</th>\n",
       "      <td>POCO C51 (Royal Blue, 64 GB)</td>\n",
       "      <td>4.3</td>\n",
       "      <td>15,175</td>\n",
       "      <td>4 GB RAM</td>\n",
       "      <td>64 GB ROM</td>\n",
       "      <td>8MP Dual Rear Camera</td>\n",
       "      <td>5MP Front Camera</td>\n",
       "      <td>5000 mAh</td>\n",
       "      <td>Helio G36 Processor</td>\n",
       "      <td>₹6,999</td>\n",
       "      <td>2023-06-17</td>\n",
       "    </tr>\n",
       "    <tr>\n",
       "      <th>3</th>\n",
       "      <td>POCO C55 (Cool Blue, 64 GB)</td>\n",
       "      <td>4.2</td>\n",
       "      <td>22,621</td>\n",
       "      <td>4 GB RAM</td>\n",
       "      <td>64 GB ROM</td>\n",
       "      <td>50MP Dual Rear Camera</td>\n",
       "      <td>5MP Front Camera</td>\n",
       "      <td>5000 mAh</td>\n",
       "      <td>Mediatek Helio G85 Processor</td>\n",
       "      <td>₹7,749</td>\n",
       "      <td>2023-06-17</td>\n",
       "    </tr>\n",
       "    <tr>\n",
       "      <th>4</th>\n",
       "      <td>POCO C51 (Power Black, 64 GB)</td>\n",
       "      <td>4.3</td>\n",
       "      <td>15,175</td>\n",
       "      <td>4 GB RAM</td>\n",
       "      <td>64 GB ROM</td>\n",
       "      <td>8MP Dual Rear Camera</td>\n",
       "      <td>5MP Front Camera</td>\n",
       "      <td>5000 mAh</td>\n",
       "      <td>Helio G36 Processor</td>\n",
       "      <td>₹6,999</td>\n",
       "      <td>2023-06-17</td>\n",
       "    </tr>\n",
       "  </tbody>\n",
       "</table>\n",
       "</div>"
      ],
      "text/plain": [
       "                      Phone Name  Rating ?/5 Number of Ratings       RAM  \\\n",
       "0   POCO C50 (Royal Blue, 32 GB)         4.2            33,561  2 GB RAM   \n",
       "1  POCO M4 5G (Cool Blue, 64 GB)         4.2            77,128  4 GB RAM   \n",
       "2   POCO C51 (Royal Blue, 64 GB)         4.3            15,175  4 GB RAM   \n",
       "3    POCO C55 (Cool Blue, 64 GB)         4.2            22,621  4 GB RAM   \n",
       "4  POCO C51 (Power Black, 64 GB)         4.3            15,175  4 GB RAM   \n",
       "\n",
       "  ROM/Storage       Back/Rare Camera      Front Camera   Battery  \\\n",
       "0   32 GB ROM        8MP Dual Camera  5MP Front Camera  5000 mAh   \n",
       "1   64 GB ROM             50MP + 2MP  8MP Front Camera  5000 mAh   \n",
       "2   64 GB ROM   8MP Dual Rear Camera  5MP Front Camera  5000 mAh   \n",
       "3   64 GB ROM  50MP Dual Rear Camera  5MP Front Camera  5000 mAh   \n",
       "4   64 GB ROM   8MP Dual Rear Camera  5MP Front Camera  5000 mAh   \n",
       "\n",
       "                                           Processor Price in INR  \\\n",
       "0  Mediatek Helio A22 Processor, Upto 2.0 GHz Pro...       ₹5,649   \n",
       "1                   Mediatek Dimensity 700 Processor      ₹11,999   \n",
       "2                                Helio G36 Processor       ₹6,999   \n",
       "3                       Mediatek Helio G85 Processor       ₹7,749   \n",
       "4                                Helio G36 Processor       ₹6,999   \n",
       "\n",
       "  Date of Scraping  \n",
       "0       2023-06-17  \n",
       "1       2023-06-17  \n",
       "2       2023-06-17  \n",
       "3       2023-06-17  \n",
       "4       2023-06-17  "
      ]
     },
     "execution_count": 2,
     "metadata": {},
     "output_type": "execute_result"
    }
   ],
   "source": [
    "df=pd.read_csv(\"mobile_prices_2023.csv\")\n",
    "df.head()"
   ]
  },
  {
   "cell_type": "code",
   "execution_count": 3,
   "id": "c91443f4-db38-4af1-b39b-26053afac947",
   "metadata": {
    "tags": []
   },
   "outputs": [
    {
     "data": {
      "text/plain": [
       "(1836, 11)"
      ]
     },
     "execution_count": 3,
     "metadata": {},
     "output_type": "execute_result"
    }
   ],
   "source": [
    "df.shape"
   ]
  },
  {
   "cell_type": "code",
   "execution_count": 4,
   "id": "b325693c-b623-4fc9-9401-f71efce905af",
   "metadata": {
    "tags": []
   },
   "outputs": [
    {
     "data": {
      "text/plain": [
       "Phone Name             0\n",
       "Rating ?/5             0\n",
       "Number of Ratings      0\n",
       "RAM                    0\n",
       "ROM/Storage          174\n",
       "Back/Rare Camera       9\n",
       "Front Camera         401\n",
       "Battery               10\n",
       "Processor             55\n",
       "Price in INR           0\n",
       "Date of Scraping       0\n",
       "dtype: int64"
      ]
     },
     "execution_count": 4,
     "metadata": {},
     "output_type": "execute_result"
    }
   ],
   "source": [
    "df.isnull().sum()"
   ]
  },
  {
   "cell_type": "code",
   "execution_count": 5,
   "id": "f9d6bc26-801d-43f9-9205-8292e0027b5e",
   "metadata": {
    "tags": []
   },
   "outputs": [
    {
     "data": {
      "text/plain": [
       "Phone Name           0\n",
       "Rating ?/5           0\n",
       "Number of Ratings    0\n",
       "RAM                  0\n",
       "ROM/Storage          0\n",
       "Back/Rare Camera     0\n",
       "Front Camera         0\n",
       "Battery              0\n",
       "Processor            0\n",
       "Price in INR         0\n",
       "Date of Scraping     0\n",
       "dtype: int64"
      ]
     },
     "execution_count": 5,
     "metadata": {},
     "output_type": "execute_result"
    }
   ],
   "source": [
    "categorical_data= df.select_dtypes(include=[\"object\",\"category\"])\n",
    "for x in categorical_data:\n",
    "    df[x].fillna(df[x].mode()[0], inplace=True)\n",
    "df.isnull().sum()"
   ]
  },
  {
   "cell_type": "code",
   "execution_count": 6,
   "id": "9db2fef6-481a-4393-b4ec-2a6a37f7dddf",
   "metadata": {
    "tags": []
   },
   "outputs": [
    {
     "name": "stdout",
     "output_type": "stream",
     "text": [
      "<class 'pandas.core.frame.DataFrame'>\n",
      "RangeIndex: 1836 entries, 0 to 1835\n",
      "Data columns (total 11 columns):\n",
      " #   Column             Non-Null Count  Dtype  \n",
      "---  ------             --------------  -----  \n",
      " 0   Phone Name         1836 non-null   object \n",
      " 1   Rating ?/5         1836 non-null   float64\n",
      " 2   Number of Ratings  1836 non-null   int64  \n",
      " 3   RAM                1836 non-null   object \n",
      " 4   ROM/Storage        1836 non-null   object \n",
      " 5   Back/Rare Camera   1836 non-null   object \n",
      " 6   Front Camera       1836 non-null   object \n",
      " 7   Battery            1836 non-null   object \n",
      " 8   Processor          1836 non-null   object \n",
      " 9   Price in INR       1836 non-null   int64  \n",
      " 10  Date of Scraping   1836 non-null   object \n",
      "dtypes: float64(1), int64(2), object(8)\n",
      "memory usage: 157.9+ KB\n"
     ]
    }
   ],
   "source": [
    "df[\"Price in INR\"]= df[\"Price in INR\"].str.replace(\",\",\"\")\n",
    "df[\"Price in INR\"]= df[\"Price in INR\"].str.replace(\"₹\",\"\")\n",
    "df[\"Number of Ratings\"]= df[\"Number of Ratings\"].str.replace(\",\",\"\")\n",
    "df[\"Price in INR\"]= pd.to_numeric(df[\"Price in INR\"])\n",
    "df[\"Number of Ratings\"]=pd.to_numeric(df[\"Number of Ratings\"])\n",
    "df.info()"
   ]
  },
  {
   "cell_type": "code",
   "execution_count": 7,
   "id": "5011477a-151e-49a4-9352-ebf626fa1534",
   "metadata": {
    "tags": []
   },
   "outputs": [
    {
     "data": {
      "text/html": [
       "<div>\n",
       "<style scoped>\n",
       "    .dataframe tbody tr th:only-of-type {\n",
       "        vertical-align: middle;\n",
       "    }\n",
       "\n",
       "    .dataframe tbody tr th {\n",
       "        vertical-align: top;\n",
       "    }\n",
       "\n",
       "    .dataframe thead th {\n",
       "        text-align: right;\n",
       "    }\n",
       "</style>\n",
       "<table border=\"1\" class=\"dataframe\">\n",
       "  <thead>\n",
       "    <tr style=\"text-align: right;\">\n",
       "      <th></th>\n",
       "      <th>Phone Name</th>\n",
       "      <th>Rating ?/5</th>\n",
       "      <th>Number of Ratings</th>\n",
       "      <th>RAM</th>\n",
       "      <th>ROM/Storage</th>\n",
       "      <th>Back/Rare Camera</th>\n",
       "      <th>Front Camera</th>\n",
       "      <th>Battery</th>\n",
       "      <th>Processor</th>\n",
       "      <th>Price in INR</th>\n",
       "      <th>Date of Scraping</th>\n",
       "    </tr>\n",
       "  </thead>\n",
       "  <tbody>\n",
       "    <tr>\n",
       "      <th>0</th>\n",
       "      <td>POCO C50 (Royal Blue, 32 GB)</td>\n",
       "      <td>4.2</td>\n",
       "      <td>33561</td>\n",
       "      <td>2 GB RAM</td>\n",
       "      <td>32 GB ROM</td>\n",
       "      <td>8MP Dual Camera</td>\n",
       "      <td>5MP Front Camera</td>\n",
       "      <td>5000 mAh</td>\n",
       "      <td>Mediatek Helio A22 Processor, Upto 2.0 GHz Pro...</td>\n",
       "      <td>5649</td>\n",
       "      <td>2023-06-17</td>\n",
       "    </tr>\n",
       "    <tr>\n",
       "      <th>1</th>\n",
       "      <td>POCO M4 5G (Cool Blue, 64 GB)</td>\n",
       "      <td>4.2</td>\n",
       "      <td>77128</td>\n",
       "      <td>4 GB RAM</td>\n",
       "      <td>64 GB ROM</td>\n",
       "      <td>50MP + 2MP</td>\n",
       "      <td>8MP Front Camera</td>\n",
       "      <td>5000 mAh</td>\n",
       "      <td>Mediatek Dimensity 700 Processor</td>\n",
       "      <td>11999</td>\n",
       "      <td>2023-06-17</td>\n",
       "    </tr>\n",
       "    <tr>\n",
       "      <th>2</th>\n",
       "      <td>POCO C51 (Royal Blue, 64 GB)</td>\n",
       "      <td>4.3</td>\n",
       "      <td>15175</td>\n",
       "      <td>4 GB RAM</td>\n",
       "      <td>64 GB ROM</td>\n",
       "      <td>8MP Dual Rear Camera</td>\n",
       "      <td>5MP Front Camera</td>\n",
       "      <td>5000 mAh</td>\n",
       "      <td>Helio G36 Processor</td>\n",
       "      <td>6999</td>\n",
       "      <td>2023-06-17</td>\n",
       "    </tr>\n",
       "    <tr>\n",
       "      <th>3</th>\n",
       "      <td>POCO C55 (Cool Blue, 64 GB)</td>\n",
       "      <td>4.2</td>\n",
       "      <td>22621</td>\n",
       "      <td>4 GB RAM</td>\n",
       "      <td>64 GB ROM</td>\n",
       "      <td>50MP Dual Rear Camera</td>\n",
       "      <td>5MP Front Camera</td>\n",
       "      <td>5000 mAh</td>\n",
       "      <td>Mediatek Helio G85 Processor</td>\n",
       "      <td>7749</td>\n",
       "      <td>2023-06-17</td>\n",
       "    </tr>\n",
       "    <tr>\n",
       "      <th>4</th>\n",
       "      <td>POCO C51 (Power Black, 64 GB)</td>\n",
       "      <td>4.3</td>\n",
       "      <td>15175</td>\n",
       "      <td>4 GB RAM</td>\n",
       "      <td>64 GB ROM</td>\n",
       "      <td>8MP Dual Rear Camera</td>\n",
       "      <td>5MP Front Camera</td>\n",
       "      <td>5000 mAh</td>\n",
       "      <td>Helio G36 Processor</td>\n",
       "      <td>6999</td>\n",
       "      <td>2023-06-17</td>\n",
       "    </tr>\n",
       "  </tbody>\n",
       "</table>\n",
       "</div>"
      ],
      "text/plain": [
       "                      Phone Name  Rating ?/5  Number of Ratings       RAM  \\\n",
       "0   POCO C50 (Royal Blue, 32 GB)         4.2              33561  2 GB RAM   \n",
       "1  POCO M4 5G (Cool Blue, 64 GB)         4.2              77128  4 GB RAM   \n",
       "2   POCO C51 (Royal Blue, 64 GB)         4.3              15175  4 GB RAM   \n",
       "3    POCO C55 (Cool Blue, 64 GB)         4.2              22621  4 GB RAM   \n",
       "4  POCO C51 (Power Black, 64 GB)         4.3              15175  4 GB RAM   \n",
       "\n",
       "  ROM/Storage       Back/Rare Camera      Front Camera   Battery  \\\n",
       "0   32 GB ROM        8MP Dual Camera  5MP Front Camera  5000 mAh   \n",
       "1   64 GB ROM             50MP + 2MP  8MP Front Camera  5000 mAh   \n",
       "2   64 GB ROM   8MP Dual Rear Camera  5MP Front Camera  5000 mAh   \n",
       "3   64 GB ROM  50MP Dual Rear Camera  5MP Front Camera  5000 mAh   \n",
       "4   64 GB ROM   8MP Dual Rear Camera  5MP Front Camera  5000 mAh   \n",
       "\n",
       "                                           Processor  Price in INR  \\\n",
       "0  Mediatek Helio A22 Processor, Upto 2.0 GHz Pro...          5649   \n",
       "1                   Mediatek Dimensity 700 Processor         11999   \n",
       "2                                Helio G36 Processor          6999   \n",
       "3                       Mediatek Helio G85 Processor          7749   \n",
       "4                                Helio G36 Processor          6999   \n",
       "\n",
       "  Date of Scraping  \n",
       "0       2023-06-17  \n",
       "1       2023-06-17  \n",
       "2       2023-06-17  \n",
       "3       2023-06-17  \n",
       "4       2023-06-17  "
      ]
     },
     "execution_count": 7,
     "metadata": {},
     "output_type": "execute_result"
    }
   ],
   "source": [
    "df.head()"
   ]
  },
  {
   "cell_type": "code",
   "execution_count": 8,
   "id": "fe72792c-6abe-484a-96bd-b7f9eeefa506",
   "metadata": {
    "tags": []
   },
   "outputs": [
    {
     "data": {
      "text/html": [
       "<div>\n",
       "<style scoped>\n",
       "    .dataframe tbody tr th:only-of-type {\n",
       "        vertical-align: middle;\n",
       "    }\n",
       "\n",
       "    .dataframe tbody tr th {\n",
       "        vertical-align: top;\n",
       "    }\n",
       "\n",
       "    .dataframe thead th {\n",
       "        text-align: right;\n",
       "    }\n",
       "</style>\n",
       "<table border=\"1\" class=\"dataframe\">\n",
       "  <thead>\n",
       "    <tr style=\"text-align: right;\">\n",
       "      <th></th>\n",
       "      <th>Phone Name</th>\n",
       "      <th>Rating ?/5</th>\n",
       "      <th>Number of Ratings</th>\n",
       "      <th>RAM</th>\n",
       "      <th>ROM/Storage</th>\n",
       "      <th>Back/Rare Camera</th>\n",
       "      <th>Front Camera</th>\n",
       "      <th>Battery</th>\n",
       "      <th>Processor</th>\n",
       "      <th>Price in INR</th>\n",
       "      <th>Date of Scraping</th>\n",
       "    </tr>\n",
       "  </thead>\n",
       "  <tbody>\n",
       "    <tr>\n",
       "      <th>0</th>\n",
       "      <td>746</td>\n",
       "      <td>4.2</td>\n",
       "      <td>33561</td>\n",
       "      <td>16</td>\n",
       "      <td>14</td>\n",
       "      <td>171</td>\n",
       "      <td>26</td>\n",
       "      <td>78</td>\n",
       "      <td>187</td>\n",
       "      <td>5649</td>\n",
       "      <td>0</td>\n",
       "    </tr>\n",
       "    <tr>\n",
       "      <th>1</th>\n",
       "      <td>789</td>\n",
       "      <td>4.2</td>\n",
       "      <td>77128</td>\n",
       "      <td>25</td>\n",
       "      <td>20</td>\n",
       "      <td>118</td>\n",
       "      <td>32</td>\n",
       "      <td>78</td>\n",
       "      <td>173</td>\n",
       "      <td>11999</td>\n",
       "      <td>0</td>\n",
       "    </tr>\n",
       "    <tr>\n",
       "      <th>2</th>\n",
       "      <td>748</td>\n",
       "      <td>4.3</td>\n",
       "      <td>15175</td>\n",
       "      <td>25</td>\n",
       "      <td>20</td>\n",
       "      <td>172</td>\n",
       "      <td>26</td>\n",
       "      <td>78</td>\n",
       "      <td>106</td>\n",
       "      <td>6999</td>\n",
       "      <td>0</td>\n",
       "    </tr>\n",
       "    <tr>\n",
       "      <th>3</th>\n",
       "      <td>750</td>\n",
       "      <td>4.2</td>\n",
       "      <td>22621</td>\n",
       "      <td>25</td>\n",
       "      <td>20</td>\n",
       "      <td>137</td>\n",
       "      <td>26</td>\n",
       "      <td>78</td>\n",
       "      <td>193</td>\n",
       "      <td>7749</td>\n",
       "      <td>0</td>\n",
       "    </tr>\n",
       "    <tr>\n",
       "      <th>4</th>\n",
       "      <td>747</td>\n",
       "      <td>4.3</td>\n",
       "      <td>15175</td>\n",
       "      <td>25</td>\n",
       "      <td>20</td>\n",
       "      <td>172</td>\n",
       "      <td>26</td>\n",
       "      <td>78</td>\n",
       "      <td>106</td>\n",
       "      <td>6999</td>\n",
       "      <td>0</td>\n",
       "    </tr>\n",
       "  </tbody>\n",
       "</table>\n",
       "</div>"
      ],
      "text/plain": [
       "   Phone Name  Rating ?/5  Number of Ratings  RAM  ROM/Storage  \\\n",
       "0         746         4.2              33561   16           14   \n",
       "1         789         4.2              77128   25           20   \n",
       "2         748         4.3              15175   25           20   \n",
       "3         750         4.2              22621   25           20   \n",
       "4         747         4.3              15175   25           20   \n",
       "\n",
       "   Back/Rare Camera  Front Camera  Battery  Processor  Price in INR  \\\n",
       "0               171            26       78        187          5649   \n",
       "1               118            32       78        173         11999   \n",
       "2               172            26       78        106          6999   \n",
       "3               137            26       78        193          7749   \n",
       "4               172            26       78        106          6999   \n",
       "\n",
       "   Date of Scraping  \n",
       "0                 0  \n",
       "1                 0  \n",
       "2                 0  \n",
       "3                 0  \n",
       "4                 0  "
      ]
     },
     "execution_count": 8,
     "metadata": {},
     "output_type": "execute_result"
    }
   ],
   "source": [
    "encoder= LabelEncoder()\n",
    "category=df.select_dtypes(include=[\"object\",\"category\"])\n",
    "for x in category:\n",
    "    df[x]=encoder.fit_transform(df[x])\n",
    "df.head()"
   ]
  },
  {
   "cell_type": "code",
   "execution_count": 9,
   "id": "32a8ebf7-60d9-493e-aad9-2bb76d2d04b9",
   "metadata": {
    "tags": []
   },
   "outputs": [],
   "source": [
    "X=df.drop([\"Price in INR\"],axis=1)\n",
    "y=df[\"Price in INR\"]"
   ]
  },
  {
   "cell_type": "code",
   "execution_count": 10,
   "id": "c94eb0fd-c7b2-4f9b-9ec5-3b3e81e98526",
   "metadata": {
    "tags": []
   },
   "outputs": [
    {
     "data": {
      "text/html": [
       "<div>\n",
       "<style scoped>\n",
       "    .dataframe tbody tr th:only-of-type {\n",
       "        vertical-align: middle;\n",
       "    }\n",
       "\n",
       "    .dataframe tbody tr th {\n",
       "        vertical-align: top;\n",
       "    }\n",
       "\n",
       "    .dataframe thead th {\n",
       "        text-align: right;\n",
       "    }\n",
       "</style>\n",
       "<table border=\"1\" class=\"dataframe\">\n",
       "  <thead>\n",
       "    <tr style=\"text-align: right;\">\n",
       "      <th></th>\n",
       "      <th>Phone Name</th>\n",
       "      <th>Rating ?/5</th>\n",
       "      <th>Number of Ratings</th>\n",
       "      <th>RAM</th>\n",
       "      <th>ROM/Storage</th>\n",
       "      <th>Back/Rare Camera</th>\n",
       "      <th>Front Camera</th>\n",
       "      <th>Battery</th>\n",
       "      <th>Processor</th>\n",
       "      <th>Date of Scraping</th>\n",
       "    </tr>\n",
       "  </thead>\n",
       "  <tbody>\n",
       "    <tr>\n",
       "      <th>0</th>\n",
       "      <td>746</td>\n",
       "      <td>4.2</td>\n",
       "      <td>33561</td>\n",
       "      <td>16</td>\n",
       "      <td>14</td>\n",
       "      <td>171</td>\n",
       "      <td>26</td>\n",
       "      <td>78</td>\n",
       "      <td>187</td>\n",
       "      <td>0</td>\n",
       "    </tr>\n",
       "    <tr>\n",
       "      <th>1</th>\n",
       "      <td>789</td>\n",
       "      <td>4.2</td>\n",
       "      <td>77128</td>\n",
       "      <td>25</td>\n",
       "      <td>20</td>\n",
       "      <td>118</td>\n",
       "      <td>32</td>\n",
       "      <td>78</td>\n",
       "      <td>173</td>\n",
       "      <td>0</td>\n",
       "    </tr>\n",
       "    <tr>\n",
       "      <th>2</th>\n",
       "      <td>748</td>\n",
       "      <td>4.3</td>\n",
       "      <td>15175</td>\n",
       "      <td>25</td>\n",
       "      <td>20</td>\n",
       "      <td>172</td>\n",
       "      <td>26</td>\n",
       "      <td>78</td>\n",
       "      <td>106</td>\n",
       "      <td>0</td>\n",
       "    </tr>\n",
       "    <tr>\n",
       "      <th>3</th>\n",
       "      <td>750</td>\n",
       "      <td>4.2</td>\n",
       "      <td>22621</td>\n",
       "      <td>25</td>\n",
       "      <td>20</td>\n",
       "      <td>137</td>\n",
       "      <td>26</td>\n",
       "      <td>78</td>\n",
       "      <td>193</td>\n",
       "      <td>0</td>\n",
       "    </tr>\n",
       "    <tr>\n",
       "      <th>4</th>\n",
       "      <td>747</td>\n",
       "      <td>4.3</td>\n",
       "      <td>15175</td>\n",
       "      <td>25</td>\n",
       "      <td>20</td>\n",
       "      <td>172</td>\n",
       "      <td>26</td>\n",
       "      <td>78</td>\n",
       "      <td>106</td>\n",
       "      <td>0</td>\n",
       "    </tr>\n",
       "  </tbody>\n",
       "</table>\n",
       "</div>"
      ],
      "text/plain": [
       "   Phone Name  Rating ?/5  Number of Ratings  RAM  ROM/Storage  \\\n",
       "0         746         4.2              33561   16           14   \n",
       "1         789         4.2              77128   25           20   \n",
       "2         748         4.3              15175   25           20   \n",
       "3         750         4.2              22621   25           20   \n",
       "4         747         4.3              15175   25           20   \n",
       "\n",
       "   Back/Rare Camera  Front Camera  Battery  Processor  Date of Scraping  \n",
       "0               171            26       78        187                 0  \n",
       "1               118            32       78        173                 0  \n",
       "2               172            26       78        106                 0  \n",
       "3               137            26       78        193                 0  \n",
       "4               172            26       78        106                 0  "
      ]
     },
     "execution_count": 10,
     "metadata": {},
     "output_type": "execute_result"
    }
   ],
   "source": [
    "X.head()"
   ]
  },
  {
   "cell_type": "code",
   "execution_count": 11,
   "id": "eb75358c-b625-4cb7-9745-d0025205f181",
   "metadata": {
    "tags": []
   },
   "outputs": [
    {
     "data": {
      "text/plain": [
       "0     5649\n",
       "1    11999\n",
       "2     6999\n",
       "3     7749\n",
       "4     6999\n",
       "Name: Price in INR, dtype: int64"
      ]
     },
     "execution_count": 11,
     "metadata": {},
     "output_type": "execute_result"
    }
   ],
   "source": [
    "y.head()"
   ]
  },
  {
   "cell_type": "code",
   "execution_count": 12,
   "id": "0d517e00-3512-44df-b4a8-87569cd583f3",
   "metadata": {
    "tags": []
   },
   "outputs": [
    {
     "data": {
      "image/png": "[encoded data removed]",
      "text/plain": [
       "<Figure size 640x480 with 1 Axes>"
      ]
     },
     "metadata": {},
     "output_type": "display_data"
    }
   ],
   "source": [
    "plt.style.use(\"ggplot\")\n",
    "importance= mutual_info_regression(X,y)\n",
    "feature_impo=pd.Series(importance,X.columns[0:len(X.columns)])\n",
    "feature_impo.plot(kind=\"barh\",color=\"black\")\n",
    "plt.show()"
   ]
  },
  {
   "cell_type": "code",
   "execution_count": 13,
   "id": "063a2822-1fe7-4679-8927-495a876a08cf",
   "metadata": {
    "tags": []
   },
   "outputs": [],
   "source": [
    "xtrain,xtest,ytrain,ytest=train_test_split(X,y, test_size=0.2,random_state=1)"
   ]
  },
  {
   "cell_type": "code",
   "execution_count": 14,
   "id": "e72bd37f-5cbb-444e-92c4-6e6f839573cd",
   "metadata": {},
   "outputs": [
    {
     "data": {
      "text/html": [
       "<style>#sk-container-id-1 {color: black;}#sk-container-id-1 pre{padding: 0;}#sk-container-id-1 div.sk-toggleable {background-color: white;}#sk-container-id-1 label.sk-toggleable__label {cursor: pointer;display: block;width: 100%;margin-bottom: 0;padding: 0.3em;box-sizing: border-box;text-align: center;}#sk-container-id-1 label.sk-toggleable__label-arrow:before {content: \"▸\";float: left;margin-right: 0.25em;color: #696969;}#sk-container-id-1 label.sk-toggleable__label-arrow:hover:before {color: black;}#sk-container-id-1 div.sk-estimator:hover label.sk-toggleable__label-arrow:before {color: black;}#sk-container-id-1 div.sk-toggleable__content {max-height: 0;max-width: 0;overflow: hidden;text-align: left;background-color: #f0f8ff;}#sk-container-id-1 div.sk-toggleable__content pre {margin: 0.2em;color: black;border-radius: 0.25em;background-color: #f0f8ff;}#sk-container-id-1 input.sk-toggleable__control:checked~div.sk-toggleable__content {max-height: 200px;max-width: 100%;overflow: auto;}#sk-container-id-1 input.sk-toggleable__control:checked~label.sk-toggleable__label-arrow:before {content: \"▾\";}#sk-container-id-1 div.sk-estimator input.sk-toggleable__control:checked~label.sk-toggleable__label {background-color: #d4ebff;}#sk-container-id-1 div.sk-label input.sk-toggleable__control:checked~label.sk-toggleable__label {background-color: #d4ebff;}#sk-container-id-1 input.sk-hidden--visually {border: 0;clip: rect(1px 1px 1px 1px);clip: rect(1px, 1px, 1px, 1px);height: 1px;margin: -1px;overflow: hidden;padding: 0;position: absolute;width: 1px;}#sk-container-id-1 div.sk-estimator {font-family: monospace;background-color: #f0f8ff;border: 1px dotted black;border-radius: 0.25em;box-sizing: border-box;margin-bottom: 0.5em;}#sk-container-id-1 div.sk-estimator:hover {background-color: #d4ebff;}#sk-container-id-1 div.sk-parallel-item::after {content: \"\";width: 100%;border-bottom: 1px solid gray;flex-grow: 1;}#sk-container-id-1 div.sk-label:hover label.sk-toggleable__label {background-color: #d4ebff;}#sk-container-id-1 div.sk-serial::before {content: \"\";position: absolute;border-left: 1px solid gray;box-sizing: border-box;top: 0;bottom: 0;left: 50%;z-index: 0;}#sk-container-id-1 div.sk-serial {display: flex;flex-direction: column;align-items: center;background-color: white;padding-right: 0.2em;padding-left: 0.2em;position: relative;}#sk-container-id-1 div.sk-item {position: relative;z-index: 1;}#sk-container-id-1 div.sk-parallel {display: flex;align-items: stretch;justify-content: center;background-color: white;position: relative;}#sk-container-id-1 div.sk-item::before, #sk-container-id-1 div.sk-parallel-item::before {content: \"\";position: absolute;border-left: 1px solid gray;box-sizing: border-box;top: 0;bottom: 0;left: 50%;z-index: -1;}#sk-container-id-1 div.sk-parallel-item {display: flex;flex-direction: column;z-index: 1;position: relative;background-color: white;}#sk-container-id-1 div.sk-parallel-item:first-child::after {align-self: flex-end;width: 50%;}#sk-container-id-1 div.sk-parallel-item:last-child::after {align-self: flex-start;width: 50%;}#sk-container-id-1 div.sk-parallel-item:only-child::after {width: 0;}#sk-container-id-1 div.sk-dashed-wrapped {border: 1px dashed gray;margin: 0 0.4em 0.5em 0.4em;box-sizing: border-box;padding-bottom: 0.4em;background-color: white;}#sk-container-id-1 div.sk-label label {font-family: monospace;font-weight: bold;display: inline-block;line-height: 1.2em;}#sk-container-id-1 div.sk-label-container {text-align: center;}#sk-container-id-1 div.sk-container {/* jupyter's `normalize.less` sets `[hidden] { display: none; }` but bootstrap.min.css set `[hidden] { display: none !important; }` so we also need the `!important` here to be able to override the default hidden behavior on the sphinx rendered scikit-learn.org. See: https://github.com/scikit-learn/scikit-learn/issues/21755 */display: inline-block !important;position: relative;}#sk-container-id-1 div.sk-text-repr-fallback {display: none;}</style><div id=\"sk-container-id-1\" class=\"sk-top-container\"><div class=\"sk-text-repr-fallback\"><pre>DecisionTreeRegressor()</pre><b>In a Jupyter environment, please rerun this cell to show the HTML representation or trust the notebook. <br />On GitHub, the HTML representation is unable to render, please try loading this page with nbviewer.org.</b></div><div class=\"sk-container\" hidden><div class=\"sk-item\"><div class=\"sk-estimator sk-toggleable\"><input class=\"sk-toggleable__control sk-hidden--visually\" id=\"sk-estimator-id-1\" type=\"checkbox\" checked><label for=\"sk-estimator-id-1\" class=\"sk-toggleable__label sk-toggleable__label-arrow\">DecisionTreeRegressor</label><div class=\"sk-toggleable__content\"><pre>DecisionTreeRegressor()</pre></div></div></div></div></div>"
      ],
      "text/plain": [
       "DecisionTreeRegressor()"
      ]
     },
     "execution_count": 14,
     "metadata": {},
     "output_type": "execute_result"
    }
   ],
   "source": [
    "tree=DecisionTreeRegressor()\n",
    "tree.fit(xtrain,ytrain)"
   ]
  },
  {
   "cell_type": "code",
   "execution_count": 15,
   "id": "559bb91f-7760-4a6d-84c1-7dd36e350931",
   "metadata": {
    "tags": []
   },
   "outputs": [
    {
     "data": {
      "text/plain": [
       "array([ 20999.        ,   1617.5       ,  16499.        ,  15990.        ,\n",
       "        16999.        ,   6999.        ,  10499.        ,  11999.        ,\n",
       "         8999.        ,  25999.        ,  36990.        ,  27990.        ,\n",
       "        15499.        ,   9999.        ,  24990.        ,  16999.        ,\n",
       "        14999.        ,  36999.        ,  25999.        ,  32299.        ,\n",
       "        31999.        ,   7199.        ,  69999.        ,  13999.        ,\n",
       "         1749.        ,  11999.        ,  80999.        ,  44999.        ,\n",
       "        48990.        ,  27999.        ,   9499.        ,   3440.        ,\n",
       "        42999.        , 100999.        ,   5999.        ,  12999.        ,\n",
       "        17499.        ,  27999.        ,   6969.        ,  13999.        ,\n",
       "        71999.        ,  13499.        ,   8799.        ,  15499.        ,\n",
       "         9490.        ,  23999.        ,  13999.        ,   1899.        ,\n",
       "        14990.        ,  22800.        ,  13999.        ,  13999.        ,\n",
       "        32990.        ,  55899.        ,  13999.        ,  21999.        ,\n",
       "        15999.        ,  13499.        ,   8049.        ,  24999.        ,\n",
       "        49996.        ,   9290.        ,  23999.        ,  10999.        ,\n",
       "         6995.        ,  27990.        ,   6749.        ,   9999.        ,\n",
       "        27999.        ,  11999.        ,   6999.        ,  12700.        ,\n",
       "         9999.        , 127999.        ,  18490.        ,  15894.5       ,\n",
       "        11499.        ,  36990.        ,   5359.        ,  40999.        ,\n",
       "         9499.        ,  94999.        ,  16999.        ,  17999.        ,\n",
       "        43990.        ,   6499.        ,  27899.        ,   9999.        ,\n",
       "        14999.        ,   9999.        ,  11249.        ,   1399.        ,\n",
       "         9990.        ,  20999.        ,  21999.        ,  37990.        ,\n",
       "         9490.        ,  19999.        ,   8999.        ,  11999.        ,\n",
       "         9990.        ,  27999.        ,  21990.        ,  11499.        ,\n",
       "        35999.        ,  15999.        , 100999.        ,  13999.        ,\n",
       "        18999.        ,  21994.5       ,  12499.        ,  10857.        ,\n",
       "        15990.        ,  56999.        ,  15490.        ,  11499.        ,\n",
       "        34990.        ,  14999.        , 125999.        ,   7499.        ,\n",
       "        24999.        ,  13499.        ,  18999.        ,  13999.        ,\n",
       "        31999.        ,  14999.        ,   9999.        ,  31999.        ,\n",
       "         6999.        ,  21999.        ,  29499.        ,   2967.        ,\n",
       "        11990.        ,   4212.5       ,  16999.        ,   9999.        ,\n",
       "         6999.        ,  17999.        ,  17338.        ,  80999.        ,\n",
       "        46999.        ,  23999.        ,  26990.        ,  12999.        ,\n",
       "        16999.        ,   9849.        ,   1299.        ,  16999.        ,\n",
       "        14990.        ,  20999.        ,  27999.        ,   1449.        ,\n",
       "        17999.        ,  27990.        ,  12988.        ,  30999.        ,\n",
       "        61999.        ,  23999.        ,  10999.        ,  10499.        ,\n",
       "        10999.        ,  11999.        ,  24999.        ,   9090.        ,\n",
       "        11990.        ,  39979.5       ,  13990.        ,   1739.        ,\n",
       "        24990.        ,  14999.        ,  31998.        ,   1899.        ,\n",
       "        11999.        ,   7499.        ,  12499.        ,  24999.        ,\n",
       "         1599.        ,  59999.        ,  27999.        , 129999.        ,\n",
       "         9999.        ,   9999.        ,   6299.        ,   1299.        ,\n",
       "        16999.        ,   9999.        ,  29490.        ,  81999.        ,\n",
       "         7079.        ,  31270.        ,  10999.        ,  43999.        ,\n",
       "        54999.        ,   3850.        ,   6199.        ,  11999.        ,\n",
       "        20980.        ,   2149.        ,  34990.        ,   1299.        ,\n",
       "        46880.        ,  16999.        ,  17999.        ,  13799.        ,\n",
       "        10499.        ,  22999.        ,   1739.        ,  53999.        ,\n",
       "        18999.        ,  13499.        ,  49999.        ,  15499.        ,\n",
       "         8999.        ,   8999.        ,   2299.        ,  39990.        ,\n",
       "         8999.        ,   3250.        ,  10969.        ,  17999.        ,\n",
       "        11490.        ,   1299.        ,  14499.        ,  20999.        ,\n",
       "        39990.        , 125999.        ,  18999.        ,   8499.        ,\n",
       "        17999.        ,  13999.        ,  32999.        ,  11999.        ,\n",
       "        32299.        ,  14999.        ,   8999.        ,   1899.        ,\n",
       "         6999.        ,  16999.        ,  17499.        ,   7499.        ,\n",
       "         3850.        ,  15999.        ,   5899.        ,  32990.        ,\n",
       "        15899.        ,  14490.        ,   9249.        ,  49999.        ,\n",
       "        43999.        ,   1299.        ,  18499.        ,  10999.        ,\n",
       "        14999.        ,  32999.        ,  14999.        ,   6499.        ,\n",
       "        34999.        ,   7749.        ,  10999.        ,   6499.        ,\n",
       "        46999.        ,  80999.        ,   3799.        ,  13499.        ,\n",
       "        66999.        ,   5999.        ,  11999.        ,  46599.        ,\n",
       "         7079.        ,  29198.        ,  27899.        ,  24999.        ,\n",
       "        21499.        ,   1299.        ,   7499.        ,  40999.        ,\n",
       "        26999.        ,   9849.        ,  18999.        ,  84999.        ,\n",
       "         9499.        ,  13999.        ,  11099.        ,  10999.        ,\n",
       "        61999.        , 100999.        ,  11899.        ,   9499.        ,\n",
       "        18999.        ,   7999.        ,   1299.        ,  14499.        ,\n",
       "        10999.        ,   2399.        ,   5649.        ,  19999.        ,\n",
       "       134999.        ,  27999.        ,  17999.        ,  20999.        ,\n",
       "         9849.        ,  24999.        ,   5359.        ,  17999.        ,\n",
       "        46999.        ,   8999.        ,   6969.        , 124999.        ,\n",
       "        15990.        ,  21990.        ,  10999.        ,  12700.        ,\n",
       "         4397.66666667,  17999.        ,  35333.        ,   8590.        ,\n",
       "        11699.        ,  39999.        ,   6999.        ,   1399.        ,\n",
       "         2849.        ,  51490.        ,  21999.        ,  53999.        ,\n",
       "         6999.        ,   5259.5       ,  19999.        ,  32999.        ,\n",
       "        16499.        ,   1599.        ,  41999.        ,  20999.        ,\n",
       "        10499.        ,   4299.        ,  12678.        ,  17999.        ,\n",
       "        36990.        ,  48990.        ,  14999.        ,  21949.        ,\n",
       "         2599.        ,   7999.        ,  15999.        ,  22000.        ,\n",
       "        10999.        ,  13399.        ,  24999.        ,   6999.        ,\n",
       "        19990.        ,   9990.        ,   1899.        ,   6049.        ,\n",
       "        14499.        , 100999.        ,  13999.        ,   1899.        ,\n",
       "        29999.        ,   9490.        ,  13999.        ,  32990.        ,\n",
       "         7076.        ,  16499.        ,  21999.        ,  12988.        ,\n",
       "        10990.        ,  13499.        ,  46990.        ,  40999.        ])"
      ]
     },
     "execution_count": 15,
     "metadata": {},
     "output_type": "execute_result"
    }
   ],
   "source": [
    "pred1=tree.predict(xtest)\n",
    "pred1"
   ]
  },
  {
   "cell_type": "code",
   "execution_count": 16,
   "id": "5722dcfa-9098-4c02-a84e-9926a5fce5be",
   "metadata": {
    "tags": []
   },
   "outputs": [
    {
     "name": "stdout",
     "output_type": "stream",
     "text": [
      "MAE 1921.596920289855\n",
      "MAPE 0.23662448828649235\n",
      "MSE 42376242.8857186\n",
      "R2 SCORE 0.9146573621087764\n"
     ]
    }
   ],
   "source": [
    "print(\"MAE\",mean_absolute_error(ytest,pred1))\n",
    "print(\"MAPE\",mean_absolute_percentage_error(ytest,pred1))\n",
    "print(\"MSE\",mean_squared_error(ytest,pred1))\n",
    "print(\"R2 SCORE\",r2_score(ytest,pred1))"
   ]
  },
  {
   "cell_type": "code",
   "execution_count": 17,
   "id": "0ed61441-f461-4ea8-9ecd-e0f79000b903",
   "metadata": {
    "tags": []
   },
   "outputs": [
    {
     "data": {
      "text/html": [
       "<div>\n",
       "<style scoped>\n",
       "    .dataframe tbody tr th:only-of-type {\n",
       "        vertical-align: middle;\n",
       "    }\n",
       "\n",
       "    .dataframe tbody tr th {\n",
       "        vertical-align: top;\n",
       "    }\n",
       "\n",
       "    .dataframe thead th {\n",
       "        text-align: right;\n",
       "    }\n",
       "</style>\n",
       "<table border=\"1\" class=\"dataframe\">\n",
       "  <thead>\n",
       "    <tr style=\"text-align: right;\">\n",
       "      <th></th>\n",
       "      <th>Actual price</th>\n",
       "      <th>Predicted price</th>\n",
       "    </tr>\n",
       "  </thead>\n",
       "  <tbody>\n",
       "    <tr>\n",
       "      <th>556</th>\n",
       "      <td>20999</td>\n",
       "      <td>20999.0</td>\n",
       "    </tr>\n",
       "    <tr>\n",
       "      <th>1386</th>\n",
       "      <td>1250</td>\n",
       "      <td>1617.5</td>\n",
       "    </tr>\n",
       "    <tr>\n",
       "      <th>1450</th>\n",
       "      <td>16499</td>\n",
       "      <td>16499.0</td>\n",
       "    </tr>\n",
       "    <tr>\n",
       "      <th>111</th>\n",
       "      <td>14999</td>\n",
       "      <td>15990.0</td>\n",
       "    </tr>\n",
       "    <tr>\n",
       "      <th>1787</th>\n",
       "      <td>15999</td>\n",
       "      <td>16999.0</td>\n",
       "    </tr>\n",
       "    <tr>\n",
       "      <th>...</th>\n",
       "      <td>...</td>\n",
       "      <td>...</td>\n",
       "    </tr>\n",
       "    <tr>\n",
       "      <th>790</th>\n",
       "      <td>13999</td>\n",
       "      <td>12988.0</td>\n",
       "    </tr>\n",
       "    <tr>\n",
       "      <th>846</th>\n",
       "      <td>10990</td>\n",
       "      <td>10990.0</td>\n",
       "    </tr>\n",
       "    <tr>\n",
       "      <th>654</th>\n",
       "      <td>13499</td>\n",
       "      <td>13499.0</td>\n",
       "    </tr>\n",
       "    <tr>\n",
       "      <th>1084</th>\n",
       "      <td>36600</td>\n",
       "      <td>46990.0</td>\n",
       "    </tr>\n",
       "    <tr>\n",
       "      <th>1574</th>\n",
       "      <td>36990</td>\n",
       "      <td>40999.0</td>\n",
       "    </tr>\n",
       "  </tbody>\n",
       "</table>\n",
       "<p>368 rows × 2 columns</p>\n",
       "</div>"
      ],
      "text/plain": [
       "      Actual price  Predicted price\n",
       "556          20999          20999.0\n",
       "1386          1250           1617.5\n",
       "1450         16499          16499.0\n",
       "111          14999          15990.0\n",
       "1787         15999          16999.0\n",
       "...            ...              ...\n",
       "790          13999          12988.0\n",
       "846          10990          10990.0\n",
       "654          13499          13499.0\n",
       "1084         36600          46990.0\n",
       "1574         36990          40999.0\n",
       "\n",
       "[368 rows x 2 columns]"
      ]
     },
     "execution_count": 17,
     "metadata": {},
     "output_type": "execute_result"
    }
   ],
   "source": [
    "outcome= { \n",
    "    \"Actual price\":ytest,\n",
    "    \"Predicted price\":pred1\n",
    "\n",
    "}\n",
    "df3=pd.DataFrame(outcome)\n",
    "df3"
   ]
  },
  {
   "cell_type": "code",
   "execution_count": 18,
   "id": "c038b3a2-cb77-4a47-a1d3-7673891c0a2c",
   "metadata": {
    "tags": []
   },
   "outputs": [
    {
     "data": {
      "text/plain": [
       "<Axes: xlabel='Price in INR'>"
      ]
     },
     "execution_count": 18,
     "metadata": {},
     "output_type": "execute_result"
    },
    {
     "data": {
      "image/png": "[encoded data removed]",
      "text/plain": [
       "<Figure size 640x480 with 1 Axes>"
      ]
     },
     "metadata": {},
     "output_type": "display_data"
    }
   ],
   "source": [
    "sns.regplot(x= ytest,y=pred1)"
   ]
  },
  {
   "cell_type": "code",
   "execution_count": 19,
   "id": "124564e1-d538-461e-9773-cf518dfe32ac",
   "metadata": {
    "tags": []
   },
   "outputs": [
    {
     "data": {
      "text/html": [
       "<style>#sk-container-id-2 {color: black;}#sk-container-id-2 pre{padding: 0;}#sk-container-id-2 div.sk-toggleable {background-color: white;}#sk-container-id-2 label.sk-toggleable__label {cursor: pointer;display: block;width: 100%;margin-bottom: 0;padding: 0.3em;box-sizing: border-box;text-align: center;}#sk-container-id-2 label.sk-toggleable__label-arrow:before {content: \"▸\";float: left;margin-right: 0.25em;color: #696969;}#sk-container-id-2 label.sk-toggleable__label-arrow:hover:before {color: black;}#sk-container-id-2 div.sk-estimator:hover label.sk-toggleable__label-arrow:before {color: black;}#sk-container-id-2 div.sk-toggleable__content {max-height: 0;max-width: 0;overflow: hidden;text-align: left;background-color: #f0f8ff;}#sk-container-id-2 div.sk-toggleable__content pre {margin: 0.2em;color: black;border-radius: 0.25em;background-color: #f0f8ff;}#sk-container-id-2 input.sk-toggleable__control:checked~div.sk-toggleable__content {max-height: 200px;max-width: 100%;overflow: auto;}#sk-container-id-2 input.sk-toggleable__control:checked~label.sk-toggleable__label-arrow:before {content: \"▾\";}#sk-container-id-2 div.sk-estimator input.sk-toggleable__control:checked~label.sk-toggleable__label {background-color: #d4ebff;}#sk-container-id-2 div.sk-label input.sk-toggleable__control:checked~label.sk-toggleable__label {background-color: #d4ebff;}#sk-container-id-2 input.sk-hidden--visually {border: 0;clip: rect(1px 1px 1px 1px);clip: rect(1px, 1px, 1px, 1px);height: 1px;margin: -1px;overflow: hidden;padding: 0;position: absolute;width: 1px;}#sk-container-id-2 div.sk-estimator {font-family: monospace;background-color: #f0f8ff;border: 1px dotted black;border-radius: 0.25em;box-sizing: border-box;margin-bottom: 0.5em;}#sk-container-id-2 div.sk-estimator:hover {background-color: #d4ebff;}#sk-container-id-2 div.sk-parallel-item::after {content: \"\";width: 100%;border-bottom: 1px solid gray;flex-grow: 1;}#sk-container-id-2 div.sk-label:hover label.sk-toggleable__label {background-color: #d4ebff;}#sk-container-id-2 div.sk-serial::before {content: \"\";position: absolute;border-left: 1px solid gray;box-sizing: border-box;top: 0;bottom: 0;left: 50%;z-index: 0;}#sk-container-id-2 div.sk-serial {display: flex;flex-direction: column;align-items: center;background-color: white;padding-right: 0.2em;padding-left: 0.2em;position: relative;}#sk-container-id-2 div.sk-item {position: relative;z-index: 1;}#sk-container-id-2 div.sk-parallel {display: flex;align-items: stretch;justify-content: center;background-color: white;position: relative;}#sk-container-id-2 div.sk-item::before, #sk-container-id-2 div.sk-parallel-item::before {content: \"\";position: absolute;border-left: 1px solid gray;box-sizing: border-box;top: 0;bottom: 0;left: 50%;z-index: -1;}#sk-container-id-2 div.sk-parallel-item {display: flex;flex-direction: column;z-index: 1;position: relative;background-color: white;}#sk-container-id-2 div.sk-parallel-item:first-child::after {align-self: flex-end;width: 50%;}#sk-container-id-2 div.sk-parallel-item:last-child::after {align-self: flex-start;width: 50%;}#sk-container-id-2 div.sk-parallel-item:only-child::after {width: 0;}#sk-container-id-2 div.sk-dashed-wrapped {border: 1px dashed gray;margin: 0 0.4em 0.5em 0.4em;box-sizing: border-box;padding-bottom: 0.4em;background-color: white;}#sk-container-id-2 div.sk-label label {font-family: monospace;font-weight: bold;display: inline-block;line-height: 1.2em;}#sk-container-id-2 div.sk-label-container {text-align: center;}#sk-container-id-2 div.sk-container {/* jupyter's `normalize.less` sets `[hidden] { display: none; }` but bootstrap.min.css set `[hidden] { display: none !important; }` so we also need the `!important` here to be able to override the default hidden behavior on the sphinx rendered scikit-learn.org. See: https://github.com/scikit-learn/scikit-learn/issues/21755 */display: inline-block !important;position: relative;}#sk-container-id-2 div.sk-text-repr-fallback {display: none;}</style><div id=\"sk-container-id-2\" class=\"sk-top-container\"><div class=\"sk-text-repr-fallback\"><pre>Pipeline(steps=[(&#x27;Scaler&#x27;, StandardScaler()),\n",
       "                (&#x27;Regression&#x27;, LinearRegression())])</pre><b>In a Jupyter environment, please rerun this cell to show the HTML representation or trust the notebook. <br />On GitHub, the HTML representation is unable to render, please try loading this page with nbviewer.org.</b></div><div class=\"sk-container\" hidden><div class=\"sk-item sk-dashed-wrapped\"><div class=\"sk-label-container\"><div class=\"sk-label sk-toggleable\"><input class=\"sk-toggleable__control sk-hidden--visually\" id=\"sk-estimator-id-2\" type=\"checkbox\" ><label for=\"sk-estimator-id-2\" class=\"sk-toggleable__label sk-toggleable__label-arrow\">Pipeline</label><div class=\"sk-toggleable__content\"><pre>Pipeline(steps=[(&#x27;Scaler&#x27;, StandardScaler()),\n",
       "                (&#x27;Regression&#x27;, LinearRegression())])</pre></div></div></div><div class=\"sk-serial\"><div class=\"sk-item\"><div class=\"sk-estimator sk-toggleable\"><input class=\"sk-toggleable__control sk-hidden--visually\" id=\"sk-estimator-id-3\" type=\"checkbox\" ><label for=\"sk-estimator-id-3\" class=\"sk-toggleable__label sk-toggleable__label-arrow\">StandardScaler</label><div class=\"sk-toggleable__content\"><pre>StandardScaler()</pre></div></div></div><div class=\"sk-item\"><div class=\"sk-estimator sk-toggleable\"><input class=\"sk-toggleable__control sk-hidden--visually\" id=\"sk-estimator-id-4\" type=\"checkbox\" ><label for=\"sk-estimator-id-4\" class=\"sk-toggleable__label sk-toggleable__label-arrow\">LinearRegression</label><div class=\"sk-toggleable__content\"><pre>LinearRegression()</pre></div></div></div></div></div></div></div>"
      ],
      "text/plain": [
       "Pipeline(steps=[('Scaler', StandardScaler()),\n",
       "                ('Regression', LinearRegression())])"
      ]
     },
     "execution_count": 19,
     "metadata": {},
     "output_type": "execute_result"
    }
   ],
   "source": [
    "LinearModel=Pipeline([(\"Scaler\",StandardScaler()),(\"Regression\",LinearRegression())])\n",
    "LinearModel.fit(xtrain,ytrain)"
   ]
  },
  {
   "cell_type": "code",
   "execution_count": 20,
   "id": "a788fa27-6ea9-43d9-9b97-e7cd2245c150",
   "metadata": {
    "tags": []
   },
   "outputs": [
    {
     "data": {
      "text/plain": [
       "array([ 3.09322168e+04,  3.72279975e+04,  3.32348742e+04,  1.76005273e+04,\n",
       "        3.86593758e+04,  9.39553665e+03,  1.99560569e+04,  2.21384330e+04,\n",
       "        2.11334887e+03,  2.20479428e+04,  2.44293145e+04,  3.08396963e+04,\n",
       "        1.14675239e+04,  1.42061333e+04, -6.04110322e+03,  3.99319337e+04,\n",
       "        2.57262453e+04,  3.16468414e+04,  1.77122623e+04,  3.25989433e+04,\n",
       "        1.65748486e+04,  1.63697139e+04,  7.09390271e+04,  1.11860620e+04,\n",
       "        1.22305552e+04,  2.54575864e+04,  6.62853153e+04,  1.87194383e+04,\n",
       "        9.77064990e+03,  2.62201423e+04,  1.98641986e+04,  4.55823547e+04,\n",
       "        3.19349640e+03,  6.06564818e+04, -2.50477349e+02,  5.34226039e+02,\n",
       "        2.85090685e+04,  9.50617644e+03,  3.45372101e+03,  1.11674189e+04,\n",
       "        6.56442650e+04,  2.30862971e+04,  7.83518183e+03,  1.14582023e+04,\n",
       "        1.72451155e+04,  3.09028450e+04,  1.12151032e+04,  3.43582366e+04,\n",
       "        3.40345324e+04,  1.72663052e+04,  3.58553318e+04,  7.68046185e+03,\n",
       "        1.67993461e+04,  3.08954074e+04,  6.79582257e+03,  2.82705476e+04,\n",
       "        2.63248287e+04,  1.81435819e+04,  1.77318058e+04,  1.05308407e+04,\n",
       "        2.79754194e+04,  1.23946690e+04,  2.53921761e+04,  8.88135428e+03,\n",
       "        3.83353426e+04,  1.73518602e+04,  1.95579646e+04,  1.03471385e+04,\n",
       "        2.62014991e+04,  3.33271628e+04,  1.44741440e+04,  3.30663886e+04,\n",
       "        1.88884750e+04,  6.91083917e+04,  2.59986156e+04,  3.51230522e+04,\n",
       "        2.73145000e+04,  2.44386361e+04,  2.61353013e+04,  3.74681282e+04,\n",
       "        6.54368917e+03,  2.39002175e+04,  8.23544695e+03,  1.06746203e+04,\n",
       "        2.14616958e+04,  2.18446999e+03,  3.16276104e+04,  8.09643038e+03,\n",
       "        1.85198003e+04,  1.64165525e+04,  2.45961250e+04,  2.12340023e+04,\n",
       "        8.28044098e+03,  2.56803408e+04,  3.53542627e+04,  1.47318042e+04,\n",
       "        8.56052199e+03,  3.23492752e+04,  1.59802600e+04,  1.38215301e+04,\n",
       "        1.01321606e+04,  2.59854843e+04,  3.69631756e+04,  1.41142198e+04,\n",
       "        3.52069913e+04,  2.23142777e+04,  6.07310543e+04,  1.24376231e+04,\n",
       "        2.57959364e+04,  3.54557994e+04,  4.46141087e+03,  2.48887095e+04,\n",
       "        2.99947915e+04,  5.62432745e+04, -1.14481753e+02,  1.41142198e+04,\n",
       "        1.45939565e+04,  3.27440785e+04,  6.13058968e+04,  1.30949319e+04,\n",
       "        2.51740057e+04,  2.18855370e+04,  2.80066157e+04,  2.64933005e+04,\n",
       "        1.65375623e+04,  3.56649644e+04,  1.74241490e+04,  1.65562054e+04,\n",
       "        1.01329655e+04,  3.76177577e+04,  1.70145634e+04,  6.57302838e+03,\n",
       "        2.10026570e+04,  2.44712543e+04,  3.86500543e+04,  2.42994860e+04,\n",
       "        2.08752168e+04,  3.14768263e+04,  3.46759882e+04,  6.63319231e+04,\n",
       "        5.59931457e+04,  2.41623835e+04,  4.26092361e+02,  1.08806226e+04,\n",
       "        3.65101366e+04,  3.56123616e+04,  1.83098869e+03, -6.98637058e+03,\n",
       "        3.89566754e+04,  1.69052105e+04,  1.01433781e+04, -5.03436124e+02,\n",
       "        8.19711276e+03,  7.70289513e+03,  1.23277196e+04,  2.94716474e+04,\n",
       "        7.02700122e+04,  2.12280261e+04,  5.69751532e+03,  1.99653785e+04,\n",
       "        2.11166579e+03,  9.34442687e+03,  3.51794244e+03,  1.96564012e+04,\n",
       "        9.69393975e+03,  3.52836415e+04,  3.93760569e+04,  3.42656059e+04,\n",
       "        8.90790113e+03,  3.41245132e+03,  2.95541652e+04,  3.75712032e+04,\n",
       "        2.54389432e+04,  6.89712092e+03,  9.62250313e+03,  2.16739524e+04,\n",
       "        3.79218624e+04,  1.30081527e+04,  2.12431944e+04,  6.51781891e+04,\n",
       "        1.29215771e+04,  5.35374761e+03,  1.61668127e+04,  2.13534256e+01,\n",
       "        2.01950371e+04,  7.67861833e+03,  1.67140108e+04,  5.86589583e+04,\n",
       "        2.25562191e+04,  3.53110356e+04,  8.17513573e+02,  1.73266915e+04,\n",
       "        1.71472703e+04,  3.03560116e+04,  1.72715682e+04, -5.74418329e+02,\n",
       "        2.32937490e+04,  4.01096666e+04,  3.29419145e+04, -7.08357108e+01,\n",
       "        1.42617649e+04,  3.74739530e+04,  1.06652988e+04,  2.18992810e+04,\n",
       "        2.06660969e+04,  8.70345227e+03,  3.42656059e+04,  5.61014188e+04,\n",
       "        2.46349401e+04,  1.20155535e+04,  2.67178120e+04,  1.12810948e+04,\n",
       "        1.41675676e+04,  8.50202619e+03,  1.01918804e+04,  1.81699226e+04,\n",
       "        1.38258247e+04,  1.85897976e+04,  2.96275281e+04,  9.99180264e+03,\n",
       "        1.22333708e+04,  2.13534256e+01,  3.15943276e+04,  1.46883228e+04,\n",
       "        2.84044120e+04,  6.12872537e+04,  2.35877554e+04,  1.85314501e+04,\n",
       "        3.23846164e+04,  3.79702804e+02,  3.55616518e+04, -4.32967570e+01,\n",
       "        3.26175864e+04,  3.07157077e+03,  1.88791534e+04,  3.75070788e+04,\n",
       "        1.91452534e+04,  3.64914935e+04,  2.84904254e+04,  1.79806085e+04,\n",
       "        2.51309881e+04,  2.85068378e+04,  4.29029719e+04,  4.34069418e+04,\n",
       "        3.48049868e+04,  3.90626970e+04,  2.12968856e+04,  3.12731750e+04,\n",
       "        3.06958084e+04,  1.49172245e+04,  3.08078782e+04,  1.18968043e+04,\n",
       "        2.36067763e+04,  1.19873425e+04,  3.27627216e+04,  1.06071775e+04,\n",
       "        2.39173388e+04,  1.02058786e+04,  7.86611691e+03,  1.94989294e+04,\n",
       "        6.82818637e+04,  7.17208728e+04,  3.12666297e+04,  2.19414664e+04,\n",
       "        6.84274230e+04,  2.39467475e+04,  2.10653330e+04,  4.42901468e+04,\n",
       "        1.77607382e+04,  3.64227698e+04,  3.13990776e+04,  1.98408815e+04,\n",
       "        1.98072342e+04,  1.69300286e+03,  2.66833175e+04,  1.74032097e+04,\n",
       "        3.40875756e+04,  3.55937185e+04,  3.47970708e+04,  6.01929761e+04,\n",
       "        5.25732991e+03,  3.61059676e+02,  2.29836091e+04,  1.04094182e+04,\n",
       "        6.88296448e+04,  6.07030896e+04,  1.18630042e+04,  2.64779653e+04,\n",
       "        3.29243416e+04,  8.13612419e+03,  2.13534256e+01,  3.15850060e+04,\n",
       "        5.69426139e+03,  3.51839840e+04,  1.90907260e+04,  3.25599916e+04,\n",
       "        3.60494292e+04,  9.49685488e+03,  2.60647251e+04,  2.97293132e+04,\n",
       "        3.56030401e+04,  3.64462119e+04,  3.23210880e+04,  2.64275836e+04,\n",
       "        5.60117888e+04,  1.59616169e+04,  3.46304258e+03,  4.19085485e+04,\n",
       "        3.08351179e+04,  2.64692292e+04,  1.83584056e+04,  3.23190621e+04,\n",
       "        8.07889286e+03,  2.93582369e+04,  3.00980962e+04,  1.20421548e+04,\n",
       "        5.79730855e+03,  5.60739595e+03,  1.28834341e+04,  2.26527463e+03,\n",
       "        1.88736293e+04,  1.60054739e+04,  3.76364009e+04,  5.61293835e+04,\n",
       "        1.92963768e+04,  1.47273414e+04,  3.10224275e+04,  2.80437937e+04,\n",
       "        1.56420526e+04,  3.40511211e+04,  5.00663478e+04,  2.06742537e+04,\n",
       "        1.18698089e+04,  9.12199006e+03,  2.27010077e+04,  8.20643432e+03,\n",
       "        2.65264002e+04,  9.75200677e+03,  1.25326698e+04,  3.55266333e+04,\n",
       "        9.02227458e+03,  2.45061477e+04,  2.91785086e+04,  1.54703109e+04,\n",
       "        1.18781612e+04,  3.27511360e+04,  3.64503006e+04,  1.86918159e+04,\n",
       "        3.73899799e+04,  1.90550976e+04,  3.43582366e+04,  1.30240718e+04,\n",
       "        2.92784715e+04,  5.40514168e+04,  2.65646157e+04,  8.66117623e+03,\n",
       "        2.19139632e+04,  1.72078293e+04,  3.09038933e+04,  1.67713815e+04,\n",
       "        3.57855288e+04,  1.62855024e+04,  1.60594554e+04,  1.23183980e+04,\n",
       "        1.07196597e+04,  2.42563190e+04,  2.12446875e+04,  4.11985103e+04])"
      ]
     },
     "execution_count": 20,
     "metadata": {},
     "output_type": "execute_result"
    }
   ],
   "source": [
    "pred2=LinearModel.predict(xtest)\n",
    "pred2"
   ]
  },
  {
   "cell_type": "code",
   "execution_count": 21,
   "id": "90695ef8-1abd-4098-9529-23e18fa163af",
   "metadata": {
    "tags": []
   },
   "outputs": [
    {
     "name": "stdout",
     "output_type": "stream",
     "text": [
      "MAE 13737.99219635259\n",
      "MAPE 1.6216722035676847\n",
      "MSE 362139163.78688395\n",
      "R2 SCORE 0.270678346717936\n"
     ]
    }
   ],
   "source": [
    "print(\"MAE\",mean_absolute_error(ytest,pred2))\n",
    "print(\"MAPE\",mean_absolute_percentage_error(ytest,pred2))\n",
    "print(\"MSE\",mean_squared_error(ytest,pred2))\n",
    "print(\"R2 SCORE\",r2_score(ytest,pred2))"
   ]
  },
  {
   "cell_type": "code",
   "execution_count": 22,
   "id": "340ef516-ca24-4c64-ba92-f086cd91d3b7",
   "metadata": {
    "tags": []
   },
   "outputs": [
    {
     "data": {
      "text/html": [
       "<div>\n",
       "<style scoped>\n",
       "    .dataframe tbody tr th:only-of-type {\n",
       "        vertical-align: middle;\n",
       "    }\n",
       "\n",
       "    .dataframe tbody tr th {\n",
       "        vertical-align: top;\n",
       "    }\n",
       "\n",
       "    .dataframe thead th {\n",
       "        text-align: right;\n",
       "    }\n",
       "</style>\n",
       "<table border=\"1\" class=\"dataframe\">\n",
       "  <thead>\n",
       "    <tr style=\"text-align: right;\">\n",
       "      <th></th>\n",
       "      <th>Actual price</th>\n",
       "      <th>Predicted price</th>\n",
       "    </tr>\n",
       "  </thead>\n",
       "  <tbody>\n",
       "    <tr>\n",
       "      <th>556</th>\n",
       "      <td>20999</td>\n",
       "      <td>30932.216810</td>\n",
       "    </tr>\n",
       "    <tr>\n",
       "      <th>1386</th>\n",
       "      <td>1250</td>\n",
       "      <td>37227.997455</td>\n",
       "    </tr>\n",
       "    <tr>\n",
       "      <th>1450</th>\n",
       "      <td>16499</td>\n",
       "      <td>33234.874226</td>\n",
       "    </tr>\n",
       "    <tr>\n",
       "      <th>111</th>\n",
       "      <td>14999</td>\n",
       "      <td>17600.527312</td>\n",
       "    </tr>\n",
       "    <tr>\n",
       "      <th>1787</th>\n",
       "      <td>15999</td>\n",
       "      <td>38659.375837</td>\n",
       "    </tr>\n",
       "    <tr>\n",
       "      <th>...</th>\n",
       "      <td>...</td>\n",
       "      <td>...</td>\n",
       "    </tr>\n",
       "    <tr>\n",
       "      <th>790</th>\n",
       "      <td>13999</td>\n",
       "      <td>12318.398017</td>\n",
       "    </tr>\n",
       "    <tr>\n",
       "      <th>846</th>\n",
       "      <td>10990</td>\n",
       "      <td>10719.659721</td>\n",
       "    </tr>\n",
       "    <tr>\n",
       "      <th>654</th>\n",
       "      <td>13499</td>\n",
       "      <td>24256.319003</td>\n",
       "    </tr>\n",
       "    <tr>\n",
       "      <th>1084</th>\n",
       "      <td>36600</td>\n",
       "      <td>21244.687460</td>\n",
       "    </tr>\n",
       "    <tr>\n",
       "      <th>1574</th>\n",
       "      <td>36990</td>\n",
       "      <td>41198.510318</td>\n",
       "    </tr>\n",
       "  </tbody>\n",
       "</table>\n",
       "<p>368 rows × 2 columns</p>\n",
       "</div>"
      ],
      "text/plain": [
       "      Actual price  Predicted price\n",
       "556          20999     30932.216810\n",
       "1386          1250     37227.997455\n",
       "1450         16499     33234.874226\n",
       "111          14999     17600.527312\n",
       "1787         15999     38659.375837\n",
       "...            ...              ...\n",
       "790          13999     12318.398017\n",
       "846          10990     10719.659721\n",
       "654          13499     24256.319003\n",
       "1084         36600     21244.687460\n",
       "1574         36990     41198.510318\n",
       "\n",
       "[368 rows x 2 columns]"
      ]
     },
     "execution_count": 22,
     "metadata": {},
     "output_type": "execute_result"
    }
   ],
   "source": [
    "outcome= { \n",
    "    \"Actual price\":ytest,\n",
    "    \"Predicted price\":pred2\n",
    "\n",
    "}\n",
    "df3=pd.DataFrame(outcome)\n",
    "df3"
   ]
  },
  {
   "cell_type": "code",
   "execution_count": 23,
   "id": "43145fb9-8a3f-4a9a-ba32-867bddb82499",
   "metadata": {
    "tags": []
   },
   "outputs": [
    {
     "data": {
      "text/plain": [
       "<Axes: xlabel='Price in INR'>"
      ]
     },
     "execution_count": 23,
     "metadata": {},
     "output_type": "execute_result"
    },
    {
     "data": {
      "image/png": "[encoded data removed]",
      "text/plain": [
       "<Figure size 640x480 with 1 Axes>"
      ]
     },
     "metadata": {},
     "output_type": "display_data"
    }
   ],
   "source": [
    "sns.regplot(x= ytest,y=pred2)"
   ]
  },
  {
   "cell_type": "code",
   "execution_count": 24,
   "id": "821df39b-25ae-471f-9c2a-de3533c6e3ce",
   "metadata": {
    "tags": []
   },
   "outputs": [
    {
     "data": {
      "text/html": [
       "<style>#sk-container-id-3 {color: black;}#sk-container-id-3 pre{padding: 0;}#sk-container-id-3 div.sk-toggleable {background-color: white;}#sk-container-id-3 label.sk-toggleable__label {cursor: pointer;display: block;width: 100%;margin-bottom: 0;padding: 0.3em;box-sizing: border-box;text-align: center;}#sk-container-id-3 label.sk-toggleable__label-arrow:before {content: \"▸\";float: left;margin-right: 0.25em;color: #696969;}#sk-container-id-3 label.sk-toggleable__label-arrow:hover:before {color: black;}#sk-container-id-3 div.sk-estimator:hover label.sk-toggleable__label-arrow:before {color: black;}#sk-container-id-3 div.sk-toggleable__content {max-height: 0;max-width: 0;overflow: hidden;text-align: left;background-color: #f0f8ff;}#sk-container-id-3 div.sk-toggleable__content pre {margin: 0.2em;color: black;border-radius: 0.25em;background-color: #f0f8ff;}#sk-container-id-3 input.sk-toggleable__control:checked~div.sk-toggleable__content {max-height: 200px;max-width: 100%;overflow: auto;}#sk-container-id-3 input.sk-toggleable__control:checked~label.sk-toggleable__label-arrow:before {content: \"▾\";}#sk-container-id-3 div.sk-estimator input.sk-toggleable__control:checked~label.sk-toggleable__label {background-color: #d4ebff;}#sk-container-id-3 div.sk-label input.sk-toggleable__control:checked~label.sk-toggleable__label {background-color: #d4ebff;}#sk-container-id-3 input.sk-hidden--visually {border: 0;clip: rect(1px 1px 1px 1px);clip: rect(1px, 1px, 1px, 1px);height: 1px;margin: -1px;overflow: hidden;padding: 0;position: absolute;width: 1px;}#sk-container-id-3 div.sk-estimator {font-family: monospace;background-color: #f0f8ff;border: 1px dotted black;border-radius: 0.25em;box-sizing: border-box;margin-bottom: 0.5em;}#sk-container-id-3 div.sk-estimator:hover {background-color: #d4ebff;}#sk-container-id-3 div.sk-parallel-item::after {content: \"\";width: 100%;border-bottom: 1px solid gray;flex-grow: 1;}#sk-container-id-3 div.sk-label:hover label.sk-toggleable__label {background-color: #d4ebff;}#sk-container-id-3 div.sk-serial::before {content: \"\";position: absolute;border-left: 1px solid gray;box-sizing: border-box;top: 0;bottom: 0;left: 50%;z-index: 0;}#sk-container-id-3 div.sk-serial {display: flex;flex-direction: column;align-items: center;background-color: white;padding-right: 0.2em;padding-left: 0.2em;position: relative;}#sk-container-id-3 div.sk-item {position: relative;z-index: 1;}#sk-container-id-3 div.sk-parallel {display: flex;align-items: stretch;justify-content: center;background-color: white;position: relative;}#sk-container-id-3 div.sk-item::before, #sk-container-id-3 div.sk-parallel-item::before {content: \"\";position: absolute;border-left: 1px solid gray;box-sizing: border-box;top: 0;bottom: 0;left: 50%;z-index: -1;}#sk-container-id-3 div.sk-parallel-item {display: flex;flex-direction: column;z-index: 1;position: relative;background-color: white;}#sk-container-id-3 div.sk-parallel-item:first-child::after {align-self: flex-end;width: 50%;}#sk-container-id-3 div.sk-parallel-item:last-child::after {align-self: flex-start;width: 50%;}#sk-container-id-3 div.sk-parallel-item:only-child::after {width: 0;}#sk-container-id-3 div.sk-dashed-wrapped {border: 1px dashed gray;margin: 0 0.4em 0.5em 0.4em;box-sizing: border-box;padding-bottom: 0.4em;background-color: white;}#sk-container-id-3 div.sk-label label {font-family: monospace;font-weight: bold;display: inline-block;line-height: 1.2em;}#sk-container-id-3 div.sk-label-container {text-align: center;}#sk-container-id-3 div.sk-container {/* jupyter's `normalize.less` sets `[hidden] { display: none; }` but bootstrap.min.css set `[hidden] { display: none !important; }` so we also need the `!important` here to be able to override the default hidden behavior on the sphinx rendered scikit-learn.org. See: https://github.com/scikit-learn/scikit-learn/issues/21755 */display: inline-block !important;position: relative;}#sk-container-id-3 div.sk-text-repr-fallback {display: none;}</style><div id=\"sk-container-id-3\" class=\"sk-top-container\"><div class=\"sk-text-repr-fallback\"><pre>RandomForestRegressor()</pre><b>In a Jupyter environment, please rerun this cell to show the HTML representation or trust the notebook. <br />On GitHub, the HTML representation is unable to render, please try loading this page with nbviewer.org.</b></div><div class=\"sk-container\" hidden><div class=\"sk-item\"><div class=\"sk-estimator sk-toggleable\"><input class=\"sk-toggleable__control sk-hidden--visually\" id=\"sk-estimator-id-5\" type=\"checkbox\" checked><label for=\"sk-estimator-id-5\" class=\"sk-toggleable__label sk-toggleable__label-arrow\">RandomForestRegressor</label><div class=\"sk-toggleable__content\"><pre>RandomForestRegressor()</pre></div></div></div></div></div>"
      ],
      "text/plain": [
       "RandomForestRegressor()"
      ]
     },
     "execution_count": 24,
     "metadata": {},
     "output_type": "execute_result"
    }
   ],
   "source": [
    "forest=RandomForestRegressor()\n",
    "forest.fit(xtrain,ytrain)"
   ]
  },
  {
   "cell_type": "code",
   "execution_count": 25,
   "id": "76c66873-5352-4d26-b4b2-298941e8a768",
   "metadata": {
    "tags": []
   },
   "outputs": [
    {
     "data": {
      "text/plain": [
       "array([ 21457.5       ,   2103.55321429,  17273.82      ,  15909.77      ,\n",
       "        16256.27      ,   7037.67      ,  10117.25      ,  12093.6       ,\n",
       "         8966.74      ,  27684.85      ,  55808.6       ,  28759.1       ,\n",
       "        15058.73      ,   9924.26      ,  28393.25      ,  16584.89      ,\n",
       "        14448.14      ,  49937.24      ,  26013.53      ,  35899.39333333,\n",
       "        28675.38666667,   7110.25      ,  70529.        ,  13988.        ,\n",
       "         1875.5725    ,  10472.32      ,  81549.        ,  44865.5425    ,\n",
       "        43766.68      ,  27841.975     ,   9239.23      ,  14080.40583333,\n",
       "        30729.5       ,  99459.        ,   6802.6       ,  13026.58666667,\n",
       "        19211.19      ,  28418.13      ,  20187.85      ,  13947.        ,\n",
       "        71099.        ,  13686.5       ,   9517.25      ,  15103.73      ,\n",
       "        10675.77      ,  25976.64      ,  12377.15      ,   2057.57      ,\n",
       "        15285.54      ,  22998.27      ,  14393.44      ,  13494.94      ,\n",
       "        30705.54      ,  44410.3075    ,  13769.08      ,  21395.84      ,\n",
       "        16639.82      ,  13688.83666667,   8376.96      ,  24214.22      ,\n",
       "        48716.39      ,  10518.11      ,  24640.49      ,  10962.77      ,\n",
       "         7105.11      ,  30585.43      ,   6848.7       ,   9987.43      ,\n",
       "        27841.975     ,  13761.23      ,   8310.03      ,  13021.44      ,\n",
       "         9869.82      , 130258.01      ,  18005.88      ,  15895.39      ,\n",
       "        11699.85833333,  55808.6       ,   7128.305     ,  44260.539     ,\n",
       "        10982.68      ,  92640.64      ,  15579.5       ,  17889.57      ,\n",
       "        40671.37      ,   8964.95      ,  31078.46      ,  10504.33666667,\n",
       "        16570.15      ,  10135.43      ,  12619.41      ,   1898.995     ,\n",
       "        10786.75      ,  20992.83      ,  17546.568     ,  36966.89      ,\n",
       "        10803.26      ,  20437.5       ,   9465.78      ,  11950.69      ,\n",
       "         9051.95      ,  26128.13      ,  22320.61333333,  15355.12266667,\n",
       "        35229.56666667,  14723.70833333,  97759.        ,  13717.35      ,\n",
       "        19877.265     ,  18846.8       ,  11717.83      ,  11080.98      ,\n",
       "        14811.47      ,  53758.91      ,  15121.93      ,  15355.12266667,\n",
       "        33611.29666667,  15098.91      , 129042.07      ,   7420.63      ,\n",
       "        23849.312     ,  13378.91      ,  19405.31      ,  14280.46      ,\n",
       "        28675.38666667,  16099.        ,   9532.71      ,  28675.38666667,\n",
       "        14511.73      ,  20673.25      ,  27625.61      ,   4636.2       ,\n",
       "        10135.25      ,   4224.77333333,  16256.27      ,  10841.7       ,\n",
       "         7211.        ,  16563.82      ,  22622.52416667,  81529.        ,\n",
       "        45549.        ,  25483.485     ,  35694.09      ,  17112.94      ,\n",
       "        16042.736     ,   9754.79      ,   1877.82      ,  10799.11      ,\n",
       "        16410.37      ,  22200.64666667,  29122.5       ,   2286.06      ,\n",
       "        17660.28      ,  28115.03      ,  11451.84      ,  33079.30333333,\n",
       "        66218.01      ,  25138.91      ,  11001.5       ,  10117.25      ,\n",
       "        11142.11      ,  11578.65      ,  25210.635     ,   9831.3       ,\n",
       "        11260.01      ,  38784.81057143,  14691.26      ,   2349.44666667,\n",
       "        26814.32      ,  14703.73      ,  29246.54833333,   2263.04      ,\n",
       "        10472.32      ,   9036.64      ,  12010.02      ,  24337.57      ,\n",
       "         1623.6825    ,  59687.56      ,  29170.155     , 130099.        ,\n",
       "        10053.91      ,   9923.91      ,   6290.29333333,   1994.82      ,\n",
       "        15028.89666667,  10159.        ,  32104.65666667,  77459.        ,\n",
       "         7245.38      ,  30179.653     ,  11583.37      ,  31959.27      ,\n",
       "        54538.73      ,   8563.80666667,   6267.99      ,  11994.        ,\n",
       "        19787.84      ,   2067.505     ,  41260.11      ,   2062.37      ,\n",
       "        45768.76      ,  20256.38      ,  17724.6       ,  13456.36      ,\n",
       "        10841.81      ,  22949.        ,   2349.44666667,  54159.        ,\n",
       "        21308.84      ,  17630.5975    ,  49071.935     ,  16991.63      ,\n",
       "        10574.        ,   9260.89      ,   3780.2175    ,  33386.42      ,\n",
       "         9069.        ,   3541.70016667,  10997.67      ,  17353.12      ,\n",
       "        11159.5       ,   1994.82      ,  14757.22      ,  21145.        ,\n",
       "        49681.20283333, 129921.18      ,  20059.7       ,   8519.        ,\n",
       "        19349.        ,  13385.21      ,  27203.1       ,  12379.63      ,\n",
       "        35899.39333333,  16558.82      ,   9719.82      ,   2263.04      ,\n",
       "         7240.54      ,  16042.736     ,  19211.19      ,   8328.41      ,\n",
       "         6222.23166667,  15976.55      ,   6025.16      ,  33147.33      ,\n",
       "        18376.2525    ,  14659.355     ,  10078.8       ,  57995.93      ,\n",
       "        40895.185     ,   2833.50166667,  17383.82      ,  10860.62      ,\n",
       "        14949.        ,  38631.37533333,  15098.91      ,  12578.91      ,\n",
       "        26360.74      ,   8208.31      ,  11003.79      ,   9195.85      ,\n",
       "        47249.        ,  82239.        ,   7861.01      ,  13378.91      ,\n",
       "        63059.        ,   6048.5       ,  12208.64      ,  45357.91      ,\n",
       "         9916.91      ,  31894.43      ,  26784.12      ,  24704.21      ,\n",
       "        21911.258     ,   1935.82      ,   7519.        ,  40638.21333333,\n",
       "        25100.67      ,   9754.24      ,  19159.        ,  82753.82      ,\n",
       "         9990.11      ,  13385.21      ,  11592.5       ,  12113.91      ,\n",
       "        62399.        ,  97759.        ,  10946.24      ,   9699.        ,\n",
       "        19570.        ,   8975.94      ,   1994.82      ,  14718.03      ,\n",
       "        10554.12      ,   8092.42      ,   5943.37      ,  23400.71283333,\n",
       "       121420.78      ,  28423.08      ,  17648.82      ,  20218.73      ,\n",
       "         9753.76      ,  24509.        ,   5530.66      ,  18815.        ,\n",
       "        45549.        ,   9465.78      ,  20187.85      , 117721.88      ,\n",
       "        15505.5       ,  21750.58      ,  10479.68      ,  15286.55      ,\n",
       "         4371.49004762,  19320.47      ,  30090.34671429,   8065.32      ,\n",
       "        11855.33      ,  37687.32      ,   9262.09      ,   3039.11133333,\n",
       "        21961.14      ,  57271.08      ,  20673.25      ,  54439.        ,\n",
       "         7160.64      ,   6592.1075    ,  19723.55      ,  34184.67666667,\n",
       "        16482.73      ,   1599.92428571,  46366.86      ,  23815.45      ,\n",
       "        10344.66      ,  31787.1922619 ,  12472.81      ,  17660.28      ,\n",
       "        30684.42      ,  44036.68      ,  15115.03      ,  18840.975     ,\n",
       "         2423.99933333,   6505.56      ,  16223.37      ,  21897.35      ,\n",
       "        10860.62      ,  18995.9175    ,  24873.52      ,   6966.        ,\n",
       "        21180.11      ,  10032.9       ,   2057.57      ,   6063.8       ,\n",
       "        15061.53      ,  82991.49      ,  14037.86      ,   2425.76833333,\n",
       "        29320.91      ,  10712.95      ,  16070.89      ,  30807.7525    ,\n",
       "        10018.76      ,  17509.18      ,  23415.45666667,  11451.84      ,\n",
       "        11018.84      ,  13513.96      ,  46732.71      ,  41006.02      ])"
      ]
     },
     "execution_count": 25,
     "metadata": {},
     "output_type": "execute_result"
    }
   ],
   "source": [
    "pred3=forest.predict(xtest)\n",
    "pred3"
   ]
  },
  {
   "cell_type": "code",
   "execution_count": 26,
   "id": "e8748f36-b1db-44ae-8174-45256aa91ec2",
   "metadata": {
    "tags": []
   },
   "outputs": [
    {
     "name": "stdout",
     "output_type": "stream",
     "text": [
      "MAE 2475.963133863872\n",
      "MAPE 0.2842504088756001\n",
      "MSE 36397794.35699987\n",
      "R2 SCORE 0.9266975179412253\n"
     ]
    }
   ],
   "source": [
    "print(\"MAE\",mean_absolute_error(ytest,pred3))\n",
    "print(\"MAPE\",mean_absolute_percentage_error(ytest,pred3))\n",
    "print(\"MSE\",mean_squared_error(ytest,pred3))\n",
    "print(\"R2 SCORE\",r2_score(ytest,pred3))"
   ]
  },
  {
   "cell_type": "code",
   "execution_count": 27,
   "id": "b0b1136e-2d09-418b-9a1a-34295a60f4e0",
   "metadata": {
    "tags": []
   },
   "outputs": [
    {
     "data": {
      "text/html": [
       "<div>\n",
       "<style scoped>\n",
       "    .dataframe tbody tr th:only-of-type {\n",
       "        vertical-align: middle;\n",
       "    }\n",
       "\n",
       "    .dataframe tbody tr th {\n",
       "        vertical-align: top;\n",
       "    }\n",
       "\n",
       "    .dataframe thead th {\n",
       "        text-align: right;\n",
       "    }\n",
       "</style>\n",
       "<table border=\"1\" class=\"dataframe\">\n",
       "  <thead>\n",
       "    <tr style=\"text-align: right;\">\n",
       "      <th></th>\n",
       "      <th>Actual price</th>\n",
       "      <th>Predicted price</th>\n",
       "    </tr>\n",
       "  </thead>\n",
       "  <tbody>\n",
       "    <tr>\n",
       "      <th>556</th>\n",
       "      <td>20999</td>\n",
       "      <td>21457.500000</td>\n",
       "    </tr>\n",
       "    <tr>\n",
       "      <th>1386</th>\n",
       "      <td>1250</td>\n",
       "      <td>2103.553214</td>\n",
       "    </tr>\n",
       "    <tr>\n",
       "      <th>1450</th>\n",
       "      <td>16499</td>\n",
       "      <td>17273.820000</td>\n",
       "    </tr>\n",
       "    <tr>\n",
       "      <th>111</th>\n",
       "      <td>14999</td>\n",
       "      <td>15909.770000</td>\n",
       "    </tr>\n",
       "    <tr>\n",
       "      <th>1787</th>\n",
       "      <td>15999</td>\n",
       "      <td>16256.270000</td>\n",
       "    </tr>\n",
       "    <tr>\n",
       "      <th>...</th>\n",
       "      <td>...</td>\n",
       "      <td>...</td>\n",
       "    </tr>\n",
       "    <tr>\n",
       "      <th>790</th>\n",
       "      <td>13999</td>\n",
       "      <td>11451.840000</td>\n",
       "    </tr>\n",
       "    <tr>\n",
       "      <th>846</th>\n",
       "      <td>10990</td>\n",
       "      <td>11018.840000</td>\n",
       "    </tr>\n",
       "    <tr>\n",
       "      <th>654</th>\n",
       "      <td>13499</td>\n",
       "      <td>13513.960000</td>\n",
       "    </tr>\n",
       "    <tr>\n",
       "      <th>1084</th>\n",
       "      <td>36600</td>\n",
       "      <td>46732.710000</td>\n",
       "    </tr>\n",
       "    <tr>\n",
       "      <th>1574</th>\n",
       "      <td>36990</td>\n",
       "      <td>41006.020000</td>\n",
       "    </tr>\n",
       "  </tbody>\n",
       "</table>\n",
       "<p>368 rows × 2 columns</p>\n",
       "</div>"
      ],
      "text/plain": [
       "      Actual price  Predicted price\n",
       "556          20999     21457.500000\n",
       "1386          1250      2103.553214\n",
       "1450         16499     17273.820000\n",
       "111          14999     15909.770000\n",
       "1787         15999     16256.270000\n",
       "...            ...              ...\n",
       "790          13999     11451.840000\n",
       "846          10990     11018.840000\n",
       "654          13499     13513.960000\n",
       "1084         36600     46732.710000\n",
       "1574         36990     41006.020000\n",
       "\n",
       "[368 rows x 2 columns]"
      ]
     },
     "execution_count": 27,
     "metadata": {},
     "output_type": "execute_result"
    }
   ],
   "source": [
    "outcome= { \n",
    "    \"Actual price\":ytest,\n",
    "    \"Predicted price\":pred3\n",
    "\n",
    "}\n",
    "df3=pd.DataFrame(outcome)\n",
    "df3"
   ]
  },
  {
   "cell_type": "code",
   "execution_count": 28,
   "id": "872b799c-4545-4db5-9974-85028e0c5dd2",
   "metadata": {
    "tags": []
   },
   "outputs": [
    {
     "data": {
      "text/plain": [
       "<Axes: xlabel='Price in INR'>"
      ]
     },
     "execution_count": 28,
     "metadata": {},
     "output_type": "execute_result"
    },
    {
     "data": {
      "image/png": "[encoded data removed]",
      "text/plain": [
       "<Figure size 640x480 with 1 Axes>"
      ]
     },
     "metadata": {},
     "output_type": "display_data"
    }
   ],
   "source": [
    "sns.regplot(x= ytest,y=pred3)"
   ]
  },
  {
   "cell_type": "code",
   "execution_count": 29,
   "id": "e6525aae-59e7-4478-9724-e74ae073da9e",
   "metadata": {
    "tags": []
   },
   "outputs": [
    {
     "name": "stderr",
     "output_type": "stream",
     "text": [
      "C:\\Users\\USER\\anaconda3\\Lib\\site-packages\\sklearn\\neural_network\\_multilayer_perceptron.py:691: ConvergenceWarning: Stochastic Optimizer: Maximum iterations (200) reached and the optimization hasn't converged yet.\n",
      "  warnings.warn(\n"
     ]
    },
    {
     "data": {
      "text/html": [
       "<style>#sk-container-id-4 {color: black;}#sk-container-id-4 pre{padding: 0;}#sk-container-id-4 div.sk-toggleable {background-color: white;}#sk-container-id-4 label.sk-toggleable__label {cursor: pointer;display: block;width: 100%;margin-bottom: 0;padding: 0.3em;box-sizing: border-box;text-align: center;}#sk-container-id-4 label.sk-toggleable__label-arrow:before {content: \"▸\";float: left;margin-right: 0.25em;color: #696969;}#sk-container-id-4 label.sk-toggleable__label-arrow:hover:before {color: black;}#sk-container-id-4 div.sk-estimator:hover label.sk-toggleable__label-arrow:before {color: black;}#sk-container-id-4 div.sk-toggleable__content {max-height: 0;max-width: 0;overflow: hidden;text-align: left;background-color: #f0f8ff;}#sk-container-id-4 div.sk-toggleable__content pre {margin: 0.2em;color: black;border-radius: 0.25em;background-color: #f0f8ff;}#sk-container-id-4 input.sk-toggleable__control:checked~div.sk-toggleable__content {max-height: 200px;max-width: 100%;overflow: auto;}#sk-container-id-4 input.sk-toggleable__control:checked~label.sk-toggleable__label-arrow:before {content: \"▾\";}#sk-container-id-4 div.sk-estimator input.sk-toggleable__control:checked~label.sk-toggleable__label {background-color: #d4ebff;}#sk-container-id-4 div.sk-label input.sk-toggleable__control:checked~label.sk-toggleable__label {background-color: #d4ebff;}#sk-container-id-4 input.sk-hidden--visually {border: 0;clip: rect(1px 1px 1px 1px);clip: rect(1px, 1px, 1px, 1px);height: 1px;margin: -1px;overflow: hidden;padding: 0;position: absolute;width: 1px;}#sk-container-id-4 div.sk-estimator {font-family: monospace;background-color: #f0f8ff;border: 1px dotted black;border-radius: 0.25em;box-sizing: border-box;margin-bottom: 0.5em;}#sk-container-id-4 div.sk-estimator:hover {background-color: #d4ebff;}#sk-container-id-4 div.sk-parallel-item::after {content: \"\";width: 100%;border-bottom: 1px solid gray;flex-grow: 1;}#sk-container-id-4 div.sk-label:hover label.sk-toggleable__label {background-color: #d4ebff;}#sk-container-id-4 div.sk-serial::before {content: \"\";position: absolute;border-left: 1px solid gray;box-sizing: border-box;top: 0;bottom: 0;left: 50%;z-index: 0;}#sk-container-id-4 div.sk-serial {display: flex;flex-direction: column;align-items: center;background-color: white;padding-right: 0.2em;padding-left: 0.2em;position: relative;}#sk-container-id-4 div.sk-item {position: relative;z-index: 1;}#sk-container-id-4 div.sk-parallel {display: flex;align-items: stretch;justify-content: center;background-color: white;position: relative;}#sk-container-id-4 div.sk-item::before, #sk-container-id-4 div.sk-parallel-item::before {content: \"\";position: absolute;border-left: 1px solid gray;box-sizing: border-box;top: 0;bottom: 0;left: 50%;z-index: -1;}#sk-container-id-4 div.sk-parallel-item {display: flex;flex-direction: column;z-index: 1;position: relative;background-color: white;}#sk-container-id-4 div.sk-parallel-item:first-child::after {align-self: flex-end;width: 50%;}#sk-container-id-4 div.sk-parallel-item:last-child::after {align-self: flex-start;width: 50%;}#sk-container-id-4 div.sk-parallel-item:only-child::after {width: 0;}#sk-container-id-4 div.sk-dashed-wrapped {border: 1px dashed gray;margin: 0 0.4em 0.5em 0.4em;box-sizing: border-box;padding-bottom: 0.4em;background-color: white;}#sk-container-id-4 div.sk-label label {font-family: monospace;font-weight: bold;display: inline-block;line-height: 1.2em;}#sk-container-id-4 div.sk-label-container {text-align: center;}#sk-container-id-4 div.sk-container {/* jupyter's `normalize.less` sets `[hidden] { display: none; }` but bootstrap.min.css set `[hidden] { display: none !important; }` so we also need the `!important` here to be able to override the default hidden behavior on the sphinx rendered scikit-learn.org. See: https://github.com/scikit-learn/scikit-learn/issues/21755 */display: inline-block !important;position: relative;}#sk-container-id-4 div.sk-text-repr-fallback {display: none;}</style><div id=\"sk-container-id-4\" class=\"sk-top-container\"><div class=\"sk-text-repr-fallback\"><pre>MLPRegressor()</pre><b>In a Jupyter environment, please rerun this cell to show the HTML representation or trust the notebook. <br />On GitHub, the HTML representation is unable to render, please try loading this page with nbviewer.org.</b></div><div class=\"sk-container\" hidden><div class=\"sk-item\"><div class=\"sk-estimator sk-toggleable\"><input class=\"sk-toggleable__control sk-hidden--visually\" id=\"sk-estimator-id-6\" type=\"checkbox\" checked><label for=\"sk-estimator-id-6\" class=\"sk-toggleable__label sk-toggleable__label-arrow\">MLPRegressor</label><div class=\"sk-toggleable__content\"><pre>MLPRegressor()</pre></div></div></div></div></div>"
      ],
      "text/plain": [
       "MLPRegressor()"
      ]
     },
     "execution_count": 29,
     "metadata": {},
     "output_type": "execute_result"
    }
   ],
   "source": [
    "ml=MLPRegressor()\n",
    "ml.fit(xtrain,ytrain)"
   ]
  },
  {
   "cell_type": "code",
   "execution_count": 30,
   "id": "24e29bc7-fc73-4dc2-b29f-bba1887a2f5f",
   "metadata": {
    "tags": []
   },
   "outputs": [
    {
     "data": {
      "text/plain": [
       "array([30926.39155325, 18526.14345045, 17548.93929396, 20966.79110689,\n",
       "       14411.3203881 , 20310.32213165, 24010.76428524, 15977.03380484,\n",
       "       19384.65894404, 13156.69984462, 23669.43334705, 15499.60078561,\n",
       "       23354.52610465,  9728.86855989, 25688.96589892, 14334.17449307,\n",
       "       22086.68719082, 13691.36454609, 19316.29774283, 33281.84341308,\n",
       "       28461.84386096, 28732.27400317,  5635.87568457, 22727.96617672,\n",
       "        8323.21209712, 17223.67281812,  5881.25155476, 25722.43965514,\n",
       "       28370.27629235, 17414.97449994, 13083.63601702, 13434.43943334,\n",
       "       18799.33916764,  6170.26551429, 15623.52905687, 26055.9664274 ,\n",
       "       20637.23352117, 25780.16611829, 14021.07508122, 22731.40508676,\n",
       "        8875.47669499, 14972.79805523, 19359.48695621, 23364.47461089,\n",
       "       28783.46402712, 17017.05871297, 20692.02054132, 21639.11697377,\n",
       "       23584.53341539, 31746.28126598, 15738.9383702 , 24519.98929815,\n",
       "       20884.53441354, 29774.75433   , 24334.24374905, 17998.7896053 ,\n",
       "       24762.93396557, 22374.74962791, 19307.35811215, 14024.87673306,\n",
       "       32605.30365401, 19202.77720734, 29352.34380505, 16136.03213492,\n",
       "       11044.54168275, 27393.14560234, 10151.65290365, 17115.0374099 ,\n",
       "       17434.4143266 , 17140.59901897,  7457.16935755, 27235.94910824,\n",
       "       20955.39139815, 10838.72719797, 27811.08332144, 20080.44594567,\n",
       "       25073.13061604, 23658.69433585, 23611.9246293 , 16746.92611285,\n",
       "       10688.95239248, 31162.41776079, 22594.7701377 , 12913.41149072,\n",
       "       25063.69363901, 33850.02810354, 20604.37920023,  8996.72916979,\n",
       "       12410.8639119 , 25371.07728525, 17499.70657928,  6883.33405438,\n",
       "       31051.82774769, 25672.21152323, 25545.18689135, 30808.98553317,\n",
       "       26905.32047221, 18923.5674792 , 13958.01650488, 17624.35130951,\n",
       "       15332.18704603, 22468.930464  , 17692.32799483, 16091.49005636,\n",
       "       20440.3231594 , 23976.71895323,  6156.50987412, 19781.52613471,\n",
       "       21404.4968963 , 11823.9044543 , 33325.51841187, 22810.55896068,\n",
       "       20445.60712637,  9696.77655048, 31237.03680416, 16091.49005636,\n",
       "       29779.28017579, 16522.83094956, 10245.38894846, 20657.20216102,\n",
       "       22897.25222203, 17357.02702648, 13050.32319628, 15488.68935209,\n",
       "       28498.81534625, 13217.84476577, 11757.85910135, 28480.32960361,\n",
       "       14563.35272072, 19839.5343146 , 30664.39854785, 18953.15918514,\n",
       "       13042.02846549,  8189.27193726, 14420.56325942, 23624.03817453,\n",
       "       21071.34104107, 15582.8139711 , 20215.22836529,  5872.65427965,\n",
       "       11555.58955599, 22292.99141983, 24729.76925399, 28538.60345106,\n",
       "       24213.54950232, 14830.96897375, 11139.1773005 , 18451.82990686,\n",
       "       10128.88817526, 17671.61176906, 28806.2205524 , 21054.03931094,\n",
       "       16928.61338623, 21635.13502627, 17850.34593932, 27552.49061374,\n",
       "        8421.6652854 , 32247.2660903 , 14854.71302548, 24000.02527404,\n",
       "       18924.26644318, 10311.80737209, 20525.93671186, 12925.64275993,\n",
       "       11484.1361803 , 20924.03116198, 12339.76988806, 10985.30938991,\n",
       "       30194.01820631, 18622.46258063, 20022.9434097 , 14685.07118202,\n",
       "       17227.11172816, 19685.18228788, 26263.31198467, 25240.23733453,\n",
       "       19032.05519939, 29391.71981261, 18434.22692407, 11243.54280557,\n",
       "       15094.79497041, 20442.52110169, 21577.04162842, 13620.60646386,\n",
       "       18671.88047036, 15357.46312587, 31449.33863649, 12405.60567673,\n",
       "       15745.88326158, 19352.35631838, 22494.99901992, 23383.0942725 ,\n",
       "       31478.63266423,  7668.23637197, 23367.49358748, 19915.60782232,\n",
       "       18703.97299643,  8845.12181881, 17640.38825455, 13384.13923408,\n",
       "       33923.91155616, 25019.82026257, 12915.13094575, 24086.58606578,\n",
       "       27082.08764864, 15595.41283025, 10985.30938991, 11537.93017611,\n",
       "       20172.95227005, 21679.30008546, 20270.83109878, 25495.58447272,\n",
       "       14211.2913503 , 13818.45336718, 12691.66952602, 18830.69005301,\n",
       "       14456.93376754,  6622.1573485 , 15983.15374694, 20431.72271407,\n",
       "       27756.55007899, 13620.60646386, 16296.55365723, 21184.18704934,\n",
       "       12875.9591538 , 10268.04275527, 24414.40975992, 11158.39580442,\n",
       "       17956.73544429, 19730.4809894 , 22771.50667248, 19238.89277944,\n",
       "       33260.36539067, 28831.90697719, 20957.11085317, 14810.92962861,\n",
       "       15275.21934862, 24235.02752472, 20649.63270288, 16167.87422789,\n",
       "        7509.66822974, 19711.20060368,  7798.46503578, 14571.26558657,\n",
       "       23229.84639988, 18146.34819263, 19783.50808204, 28776.05269145,\n",
       "       22186.71957746, 10436.12980166, 14160.34961122, 11597.28018719,\n",
       "       14876.85682482, 23256.27157199, 16510.43176785, 10668.82025047,\n",
       "       30646.74651888, 18387.67374435, 19575.02263968, 10526.93063894,\n",
       "       10923.60681744,  6474.18047178, 10301.11925902, 17319.82948135,\n",
       "       10899.06961748, 15228.89047126, 18940.12620198, 11859.70123697,\n",
       "       10050.03722799, 18938.59473521, 21062.49912324, 17286.94896641,\n",
       "       30379.93080673, 13566.99171702, 10966.15789037, 25786.87021866,\n",
       "       16683.21980179, 14850.86598625, 17643.14713156, 14045.07553891,\n",
       "       25167.51410531, 19751.26927462, 14816.83150239, 14417.90563682,\n",
       "       11891.84930727,  6161.66823919, 28394.66720043, 12654.55818513,\n",
       "       30217.32889978, 19820.83764036, 13620.60646386, 16302.75324808,\n",
       "       28777.90413239,  6454.18386821, 18088.16861993, 22460.2463934 ,\n",
       "       28502.54562782, 25790.90512949, 29838.6449809 , 20205.1430267 ,\n",
       "       14840.91748   , 15785.03448524, 19475.54696728, 26106.91465886,\n",
       "       11552.15064595, 13961.45541492, 14014.87549037, 28279.88323042,\n",
       "       19122.82864086, 32603.46012366, 19724.90549008, 14850.34393721,\n",
       "        6832.37596177, 29049.60128533, 20986.87513164, 16280.60645213,\n",
       "       30553.62601415, 28882.05549234, 34548.90842772, 20038.03646891,\n",
       "       10563.48076491, 27828.51431558, 19819.46756205, 11532.77181105,\n",
       "       21296.55294646, 12674.58916513, 21683.90318414, 23812.62551505,\n",
       "       16408.04390846, 11452.24390932,  8738.30177387, 33275.10093666,\n",
       "       17077.8287859 , 12317.05712434, 27127.63518702, 16926.89393121,\n",
       "       25797.33263679, 28391.75431475, 31263.11236785, 11704.72875493,\n",
       "       12016.24949177, 18849.92145709, 18141.36191944, 25933.8160405 ,\n",
       "       11609.6793689 , 26905.70083693, 15318.47866765, 15059.36308044,\n",
       "       12144.89051655,  9532.98442175, 21639.11697377, 20748.45672331,\n",
       "       14948.11328901, 14936.14037349, 13597.07431357,  8520.39327982,\n",
       "       27839.96210804, 28826.42007192, 16524.95487475, 20914.63454236,\n",
       "       24369.8595591 , 26419.94869322, 19396.60920878, 17860.37931559,\n",
       "        9539.29203536, 25731.11355062, 31555.49249157, 18402.67893358])"
      ]
     },
     "execution_count": 30,
     "metadata": {},
     "output_type": "execute_result"
    }
   ],
   "source": [
    "pred4=ml.predict(xtest)\n",
    "pred4"
   ]
  },
  {
   "cell_type": "code",
   "execution_count": 31,
   "id": "1df90aab-a4ea-4f46-b9ac-4df90b8ebd80",
   "metadata": {
    "tags": []
   },
   "outputs": [
    {
     "name": "stdout",
     "output_type": "stream",
     "text": [
      "MAE 13539.37623191883\n",
      "MAPE 1.1350478905587174\n",
      "MSE 550374903.7315499\n",
      "R2 SCORE -0.10841459541965381\n"
     ]
    }
   ],
   "source": [
    "print(\"MAE\",mean_absolute_error(ytest,pred4))\n",
    "print(\"MAPE\",mean_absolute_percentage_error(ytest,pred4))\n",
    "print(\"MSE\",mean_squared_error(ytest,pred4))\n",
    "print(\"R2 SCORE\",r2_score(ytest,pred4))"
   ]
  },
  {
   "cell_type": "code",
   "execution_count": 32,
   "id": "d5711f23-c30a-45db-a93a-e45304c1932c",
   "metadata": {
    "tags": []
   },
   "outputs": [
    {
     "data": {
      "text/html": [
       "<div>\n",
       "<style scoped>\n",
       "    .dataframe tbody tr th:only-of-type {\n",
       "        vertical-align: middle;\n",
       "    }\n",
       "\n",
       "    .dataframe tbody tr th {\n",
       "        vertical-align: top;\n",
       "    }\n",
       "\n",
       "    .dataframe thead th {\n",
       "        text-align: right;\n",
       "    }\n",
       "</style>\n",
       "<table border=\"1\" class=\"dataframe\">\n",
       "  <thead>\n",
       "    <tr style=\"text-align: right;\">\n",
       "      <th></th>\n",
       "      <th>Actual price</th>\n",
       "      <th>Predicted price</th>\n",
       "    </tr>\n",
       "  </thead>\n",
       "  <tbody>\n",
       "    <tr>\n",
       "      <th>556</th>\n",
       "      <td>20999</td>\n",
       "      <td>30926.391553</td>\n",
       "    </tr>\n",
       "    <tr>\n",
       "      <th>1386</th>\n",
       "      <td>1250</td>\n",
       "      <td>18526.143450</td>\n",
       "    </tr>\n",
       "    <tr>\n",
       "      <th>1450</th>\n",
       "      <td>16499</td>\n",
       "      <td>17548.939294</td>\n",
       "    </tr>\n",
       "    <tr>\n",
       "      <th>111</th>\n",
       "      <td>14999</td>\n",
       "      <td>20966.791107</td>\n",
       "    </tr>\n",
       "    <tr>\n",
       "      <th>1787</th>\n",
       "      <td>15999</td>\n",
       "      <td>14411.320388</td>\n",
       "    </tr>\n",
       "    <tr>\n",
       "      <th>...</th>\n",
       "      <td>...</td>\n",
       "      <td>...</td>\n",
       "    </tr>\n",
       "    <tr>\n",
       "      <th>790</th>\n",
       "      <td>13999</td>\n",
       "      <td>17860.379316</td>\n",
       "    </tr>\n",
       "    <tr>\n",
       "      <th>846</th>\n",
       "      <td>10990</td>\n",
       "      <td>9539.292035</td>\n",
       "    </tr>\n",
       "    <tr>\n",
       "      <th>654</th>\n",
       "      <td>13499</td>\n",
       "      <td>25731.113551</td>\n",
       "    </tr>\n",
       "    <tr>\n",
       "      <th>1084</th>\n",
       "      <td>36600</td>\n",
       "      <td>31555.492492</td>\n",
       "    </tr>\n",
       "    <tr>\n",
       "      <th>1574</th>\n",
       "      <td>36990</td>\n",
       "      <td>18402.678934</td>\n",
       "    </tr>\n",
       "  </tbody>\n",
       "</table>\n",
       "<p>368 rows × 2 columns</p>\n",
       "</div>"
      ],
      "text/plain": [
       "      Actual price  Predicted price\n",
       "556          20999     30926.391553\n",
       "1386          1250     18526.143450\n",
       "1450         16499     17548.939294\n",
       "111          14999     20966.791107\n",
       "1787         15999     14411.320388\n",
       "...            ...              ...\n",
       "790          13999     17860.379316\n",
       "846          10990      9539.292035\n",
       "654          13499     25731.113551\n",
       "1084         36600     31555.492492\n",
       "1574         36990     18402.678934\n",
       "\n",
       "[368 rows x 2 columns]"
      ]
     },
     "execution_count": 32,
     "metadata": {},
     "output_type": "execute_result"
    }
   ],
   "source": [
    "outcome= { \n",
    "    \"Actual price\":ytest,\n",
    "    \"Predicted price\":pred4\n",
    "\n",
    "}\n",
    "df3=pd.DataFrame(outcome)\n",
    "df3"
   ]
  },
  {
   "cell_type": "code",
   "execution_count": 34,
   "id": "e4f310e9-2cfe-4ea9-b133-dc5532127666",
   "metadata": {
    "tags": []
   },
   "outputs": [
    {
     "data": {
      "text/plain": [
       "<Axes: xlabel='Price in INR'>"
      ]
     },
     "execution_count": 34,
     "metadata": {},
     "output_type": "execute_result"
    },
    {
     "data": {
      "image/png": "[encoded data removed]",
      "text/plain": [
       "<Figure size 640x480 with 1 Axes>"
      ]
     },
     "metadata": {},
     "output_type": "display_data"
    }
   ],
   "source": [
    "sns.regplot(x= ytest,y=pred4)"
   ]
  },
  {
   "cell_type": "markdown",
   "id": "1a6352b9-3552-4654-9276-e0d5c924fd8b",
   "metadata": {},
   "source": [
    "## the test above has shown the \"RandomForestRgression\" has the highest number of R2(92%) followed by \"DecisionTreeRgression\"\n",
    "## (91%) compare to the others which perform poorly, this two moduls are thereby recommended."
   ]
  },
  {
   "cell_type": "code",
   "execution_count": null,
   "id": "bd74f88b-47b2-45c4-8544-aeae8a01399a",
   "metadata": {},
   "outputs": [],
   "source": []
  }
 ],
 "metadata": {
  "kernelspec": {
   "display_name": "Python 3 (ipykernel)",
   "language": "python",
   "name": "python3"
  },
  "language_info": {
   "codemirror_mode": {
    "name": "ipython",
    "version": 3
   },
   "file_extension": ".py",
   "mimetype": "text/x-python",
   "name": "python",
   "nbconvert_exporter": "python",
   "pygments_lexer": "ipython3",
   "version": "3.11.5"
  }
 },
 "nbformat": 4,
 "nbformat_minor": 5
}
